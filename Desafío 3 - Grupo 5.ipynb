{
 "cells": [
  {
   "cell_type": "markdown",
   "metadata": {},
   "source": [
    "# Configuración de Dataset y Modelo\n",
    "Estos parametros nos permiten aplicar distintos tipos de implementaciones al modelo para probar la mejor configuración"
   ]
  },
  {
   "cell_type": "code",
   "execution_count": 1,
   "metadata": {
    "collapsed": true
   },
   "outputs": [],
   "source": [
    "# Permite calcular la superficie por cantidad de ambientes, para darle un peso correcto a los ambientes.\n",
    "# Este valor no se utiliza si UTILIZAR_ROOMS es False\n",
    "CALCULAR_SUPERFICIE_POR_AMBIENTE = True\n",
    "\n",
    "# Permite indicar si utilizamos el campo rooms para nuestro modelo o no.\n",
    "# Con True mejora el score r2 en un unas milesimas nomás\n",
    "UTILIZAR_ROOMS = True\n",
    "\n",
    "# Permite indicar que no usemos el campo FLOOR en nuestros datos\n",
    "UTILIZAR_FLOOR = True\n",
    "\n",
    "# Permite indicar que usemos o no el campo EXPENSES en nuestros datos\n",
    "UTILIZAR_EXPENSES = True\n",
    "\n",
    "# indica si se calcula la superficie por cada ubicación con las dummies.\n",
    "PLACE_X_SURFACE = True\n",
    "\n",
    "# Indica si la superficie debe ser calculada por property type en las cummies de Property Type\n",
    "PROPERTY_TYPE_X_SURFACE = True\n",
    "\n",
    "# La antiguedad es obtenida de la descripción y no logramos obtener demasiada información de la misma.\n",
    "# Aproximadamente unos 3100 registros con el valor de antiguedad. \n",
    "# Este parametro nos permite comparar el modelo con y sin antiguedad.\n",
    "UTILIZAR_ANTIGUEDAD = True\n",
    "\n",
    "# Indica si debemos utilizar la ubicación para el modelo.\n",
    "UTILIZAR_UBICACION = True\n",
    "\n",
    "# Indica hasta que nivel de ubicacion realizar el entreenamiento\n",
    "# 1: País\n",
    "# 2: Pais y Provincia\n",
    "# 3: Pais, Provincia y Ciudad => Mejor Score\n",
    "# 4: Pais, Provincia, Ciudad y Barrio\n",
    "NIVEL_UBICACION = 4\n",
    "\n",
    "# Definimos las ubicaciones que vamos a usar para nuestro modelo\n",
    "#UBICACIONES = ['bs.as.','córdoba','santa fe', 'capital federal']\n",
    "UBICACIONES = []\n",
    "\n",
    "# Definimos ubicaciones a excluir\n",
    "EXCLUIR_UBICACIONES = []\n",
    "\n",
    "# Indica si elimino los outliers de precios del dataset\n",
    "ELIMINAR_OUTLIER_PRECIOS = True\n",
    "\n",
    "# Indica que se deben eliminar las superficies que tienen un valor menor o igual a cero\n",
    "ELIMINAR_SUPERFICIES_EN_CERO_Y_NULL = True\n",
    "\n",
    "# Indica que se deben eliminar las superficies que son outliers\n",
    "ELIMINAR_OUTLIER_SUPERFICIES = True\n",
    "\n",
    "# Indica si se deben eliminar los registros duplicados\n",
    "ELIMINAR_DUPLICADOS = True\n",
    "\n",
    "# Indica si el modelo debe identificar \n",
    "IDENTIFICAR_BARRIOS_PRIVADOS = False\n",
    "\n",
    "# Identifica el campo a utilizar como superficie\n",
    "CAMPO_SUPERFICIE = 'surface_covered_in_m2'"
   ]
  },
  {
   "cell_type": "markdown",
   "metadata": {},
   "source": [
    "# Pasos Iniciales"
   ]
  },
  {
   "cell_type": "markdown",
   "metadata": {},
   "source": [
    "## Importación de Librerías\n",
    "Importamos las librerías que vamos a utilizar en toda la notebook."
   ]
  },
  {
   "cell_type": "code",
   "execution_count": 2,
   "metadata": {
    "collapsed": true
   },
   "outputs": [],
   "source": [
    "import pandas as pd\n",
    "import matplotlib.pyplot as plt\n",
    "import seaborn as sns\n",
    "import numpy as np\n",
    "%matplotlib inline"
   ]
  },
  {
   "cell_type": "markdown",
   "metadata": {},
   "source": [
    "Definímos funciones y variables que nos van a permitir reutilizar el código a lo largo de la notebook"
   ]
  },
  {
   "cell_type": "markdown",
   "metadata": {},
   "source": [
    "**Columnas a eliminar**<br>\n",
    "Para eliminar las columnas en un solo paso una variable llamada **cols_to_drop** con los nombres de columnas que queremos eliminar, y en cada análisis, donde corresponda, vamos a agregar el nombre de la columna que deseamo eliminar. <br>\n",
    "En el último paso, procedemos a ejecutar la función drop, utilizando la lista de columnas a eliminar."
   ]
  },
  {
   "cell_type": "code",
   "execution_count": 3,
   "metadata": {
    "collapsed": true
   },
   "outputs": [],
   "source": [
    "# Guarda el listado de columnas a eliminar del dataframe\n",
    "cols_to_drop = []\n",
    "\n",
    "def add_column_to_drop(col_name, df):\n",
    "    \"Agrega el nombre de una columna a eliminar ('col_name') del dataframe ('df') en la lista de columnas a eliminar ('cols_to_drop'), verificando que no haya sido eliminada previamente, para luego utilizar la lista 'cols_to_drop' para eliminarlas del dataset\"\n",
    "    \n",
    "    # Agregamos la condición que verifica si la columna existe por si se ejecuta dos veces el proceso.\n",
    "    # Esto evita que nos arroje un error\n",
    "    if ~(col_name in cols_to_drop) & (col_name in df.columns):\n",
    "        # Agregamos la columna a la lista de columnas a eliminar\n",
    "        cols_to_drop.append(col_name)\n",
    "        print('La columna \"',col_name,'\" va a ser eliminada del DataFrame')\n",
    "    else:\n",
    "        print('La columna \"',col_name,'\" ya había sido eliminada del DataFrame')"
   ]
  },
  {
   "cell_type": "markdown",
   "metadata": {},
   "source": [
    "***Inspeccionar NaNs***<br>\n",
    "Creamos una función que nos permite ver de manera prolija, la información de un DataFrame"
   ]
  },
  {
   "cell_type": "code",
   "execution_count": 4,
   "metadata": {
    "collapsed": true
   },
   "outputs": [],
   "source": [
    "def inspect_dataframe(df):\n",
    "    \"Muestra los datos de un dataframe como en '.info()' pero de una manera mas facil de leer.\"\n",
    "    \n",
    "    # Cantidad total de registros\n",
    "    total_rows = len(df)\n",
    "\n",
    "    # Creamos el dataframe donde vamos a mostrar la estructura del dataset\n",
    "    # Algo así como el .info() pero con mas información.\n",
    "    df_retval = pd.DataFrame(columns=['NaNs #','NaNs %','Type'])\n",
    "\n",
    "    # Por cada columna\n",
    "    for col in df.columns:\n",
    "        \n",
    "        # Cantidad de Valores nulos\n",
    "        nan_values = df[col].isnull().sum()\n",
    "        \n",
    "        # Porcentaje de Valores Nulos en el dataset\n",
    "        nan_percentage = nan_values / total_rows * 100\n",
    "        \n",
    "        # El tipo de dato de la columna\n",
    "        datatype = df[col].dtype\n",
    "        \n",
    "        # Agrego la fila al dataframe\n",
    "        df_retval.loc[col] = [nan_values, nan_percentage, datatype]\n",
    "    \n",
    "    # Ordeno los valores por % de NaNs\n",
    "    return df_retval.sort_values(by='NaNs %', ascending=False)"
   ]
  },
  {
   "cell_type": "markdown",
   "metadata": {},
   "source": [
    "***Imputa NaNs con flag***<br>\n",
    "Creamos una función que nos imputa a una columna, el valor indicado y crea una nueva columna que indica si el registro fue imputado."
   ]
  },
  {
   "cell_type": "code",
   "execution_count": 5,
   "metadata": {
    "collapsed": true
   },
   "outputs": [],
   "source": [
    "def impute_nans_with_flag(col_name,df, value, create_flag = True):\n",
    "    \"Imputa los valores NaN con el valor de value y crea una columna que indica si al registro se le imputo un valor o no\"\n",
    "    \n",
    "    if (create_flag):\n",
    "        # Creamos el nombre de la columna FLAG\n",
    "        flag_col = col_name + '_was_nan'\n",
    "    \n",
    "        # Creamos la columna con los valores true o false donde corresponda\n",
    "        df[flag_col] = df[col_name].isnull().astype(int)\n",
    "    \n",
    "    # Asignamos 0 a los registros que son null\n",
    "    df.loc[df[col_name].isnull(),col_name] = value"
   ]
  },
  {
   "cell_type": "markdown",
   "metadata": {},
   "source": [
    "#### Distancia entre dos puntos de coordenadas\n",
    "Creamos una función que nos devuelve la distancia en kilometros entre dos puntos de coordenadas.\n",
    "Usamos esto para comparar nuestro dataset de propiedades contra el dataset de barrios privados."
   ]
  },
  {
   "cell_type": "code",
   "execution_count": 6,
   "metadata": {
    "collapsed": true
   },
   "outputs": [],
   "source": [
    "from math import radians, cos, sin, asin, sqrt\n",
    "def haversine(lon1, lat1, lon2, lat2):\n",
    "    \"\"\"\n",
    "    Calculate the great circle distance between two points \n",
    "    on the earth (specified in decimal degrees)\n",
    "    \"\"\"\n",
    "    # convert decimal degrees to radians \n",
    "    lon1, lat1, lon2, lat2 = map(radians, [lon1, lat1, lon2, lat2])\n",
    "    # haversine formula \n",
    "    dlon = lon2 - lon1 \n",
    "    dlat = lat2 - lat1 \n",
    "    a = sin(dlat/2)**2 + cos(lat1) * cos(lat2) * sin(dlon/2)**2\n",
    "    c = 2 * asin(sqrt(a)) \n",
    "    km = 6367 * c\n",
    "    return km"
   ]
  },
  {
   "cell_type": "markdown",
   "metadata": {},
   "source": [
    "### Lectura del dataset de Barrios Privados"
   ]
  },
  {
   "cell_type": "code",
   "execution_count": 7,
   "metadata": {
    "collapsed": true
   },
   "outputs": [],
   "source": [
    "# Cargamos el dataset de barrios privados.\n",
    "BARRIOS_PRIVADOS = pd.read_csv('barrios_privados_argentina_corrected.csv', encoding='latin1')\n",
    "BARRIOS_PRIVADOS['lat'] = BARRIOS_PRIVADOS['lat'].str.replace(',','.').astype(float)\n",
    "BARRIOS_PRIVADOS['lon'] = BARRIOS_PRIVADOS['lon'].str.replace(',','.').astype(float)"
   ]
  },
  {
   "cell_type": "markdown",
   "metadata": {},
   "source": [
    "## Lectura de Dataset de Propiedades\n",
    "Cargamos el Dataset en un dataframe y analizamos la estructura inicial y datos nulos."
   ]
  },
  {
   "cell_type": "code",
   "execution_count": 8,
   "metadata": {
    "collapsed": true
   },
   "outputs": [],
   "source": [
    "# Leemos el CSV\n",
    "dataframe = pd.read_csv('properatti.csv',index_col=0)    "
   ]
  },
  {
   "cell_type": "markdown",
   "metadata": {},
   "source": [
    "Observamos la correlación inicial entre variables que podrían tener algun tipo de relación con el precio"
   ]
  },
  {
   "cell_type": "code",
   "execution_count": 9,
   "metadata": {},
   "outputs": [
    {
     "data": {
      "text/plain": [
       "(array([ 0.5,  1.5,  2.5,  3.5,  4.5,  5.5]),\n",
       " <a list of 6 Text xticklabel objects>)"
      ]
     },
     "execution_count": 9,
     "metadata": {},
     "output_type": "execute_result"
    },
    {
     "data": {
      "image/png": "[encoded data removed]",
      "text/plain": [
       "<matplotlib.figure.Figure at 0x1618e35ac88>"
      ]
     },
     "metadata": {},
     "output_type": "display_data"
    }
   ],
   "source": [
    "plt.figure(figsize=(9,6))\n",
    "sns.heatmap(dataframe[['surface_covered_in_m2','surface_total_in_m2','price_aprox_usd','expenses','floor','rooms']].corr(), annot=True, annot_kws={\"size\": 18})\n",
    "plt.title('Correlación de Features', fontsize=20)\n",
    "plt.yticks(fontsize=14, rotation=0)\n",
    "plt.xticks(fontsize=14)"
   ]
  },
  {
   "cell_type": "markdown",
   "metadata": {},
   "source": [
    "## Analizamos la estructura del dataset"
   ]
  },
  {
   "cell_type": "markdown",
   "metadata": {},
   "source": [
    "Observamos el % de valores NaN para cada campo"
   ]
  },
  {
   "cell_type": "code",
   "execution_count": 10,
   "metadata": {},
   "outputs": [
    {
     "data": {
      "text/html": [
       "<div>\n",
       "<style>\n",
       "    .dataframe thead tr:only-child th {\n",
       "        text-align: right;\n",
       "    }\n",
       "\n",
       "    .dataframe thead th {\n",
       "        text-align: left;\n",
       "    }\n",
       "\n",
       "    .dataframe tbody tr th {\n",
       "        vertical-align: top;\n",
       "    }\n",
       "</style>\n",
       "<table border=\"1\" class=\"dataframe\">\n",
       "  <thead>\n",
       "    <tr style=\"text-align: right;\">\n",
       "      <th></th>\n",
       "      <th>NaNs #</th>\n",
       "      <th>NaNs %</th>\n",
       "      <th>Type</th>\n",
       "    </tr>\n",
       "  </thead>\n",
       "  <tbody>\n",
       "    <tr>\n",
       "      <th>floor</th>\n",
       "      <td>113321</td>\n",
       "      <td>93.483749</td>\n",
       "      <td>float64</td>\n",
       "    </tr>\n",
       "    <tr>\n",
       "      <th>expenses</th>\n",
       "      <td>106958</td>\n",
       "      <td>88.234615</td>\n",
       "      <td>float64</td>\n",
       "    </tr>\n",
       "    <tr>\n",
       "      <th>rooms</th>\n",
       "      <td>73830</td>\n",
       "      <td>60.905791</td>\n",
       "      <td>float64</td>\n",
       "    </tr>\n",
       "    <tr>\n",
       "      <th>price_usd_per_m2</th>\n",
       "      <td>52603</td>\n",
       "      <td>43.394654</td>\n",
       "      <td>float64</td>\n",
       "    </tr>\n",
       "    <tr>\n",
       "      <th>lat-lon</th>\n",
       "      <td>51550</td>\n",
       "      <td>42.525986</td>\n",
       "      <td>object</td>\n",
       "    </tr>\n",
       "    <tr>\n",
       "      <th>lat</th>\n",
       "      <td>51550</td>\n",
       "      <td>42.525986</td>\n",
       "      <td>float64</td>\n",
       "    </tr>\n",
       "    <tr>\n",
       "      <th>lon</th>\n",
       "      <td>51550</td>\n",
       "      <td>42.525986</td>\n",
       "      <td>float64</td>\n",
       "    </tr>\n",
       "    <tr>\n",
       "      <th>surface_total_in_m2</th>\n",
       "      <td>39328</td>\n",
       "      <td>32.443491</td>\n",
       "      <td>float64</td>\n",
       "    </tr>\n",
       "    <tr>\n",
       "      <th>price_per_m2</th>\n",
       "      <td>33562</td>\n",
       "      <td>27.686850</td>\n",
       "      <td>float64</td>\n",
       "    </tr>\n",
       "    <tr>\n",
       "      <th>currency</th>\n",
       "      <td>20411</td>\n",
       "      <td>16.837981</td>\n",
       "      <td>object</td>\n",
       "    </tr>\n",
       "    <tr>\n",
       "      <th>price_aprox_local_currency</th>\n",
       "      <td>20410</td>\n",
       "      <td>16.837156</td>\n",
       "      <td>float64</td>\n",
       "    </tr>\n",
       "    <tr>\n",
       "      <th>price</th>\n",
       "      <td>20410</td>\n",
       "      <td>16.837156</td>\n",
       "      <td>float64</td>\n",
       "    </tr>\n",
       "    <tr>\n",
       "      <th>price_aprox_usd</th>\n",
       "      <td>20410</td>\n",
       "      <td>16.837156</td>\n",
       "      <td>float64</td>\n",
       "    </tr>\n",
       "    <tr>\n",
       "      <th>surface_covered_in_m2</th>\n",
       "      <td>19907</td>\n",
       "      <td>16.422208</td>\n",
       "      <td>float64</td>\n",
       "    </tr>\n",
       "    <tr>\n",
       "      <th>geonames_id</th>\n",
       "      <td>18717</td>\n",
       "      <td>15.440521</td>\n",
       "      <td>float64</td>\n",
       "    </tr>\n",
       "    <tr>\n",
       "      <th>image_thumbnail</th>\n",
       "      <td>3112</td>\n",
       "      <td>2.567233</td>\n",
       "      <td>object</td>\n",
       "    </tr>\n",
       "    <tr>\n",
       "      <th>place_name</th>\n",
       "      <td>23</td>\n",
       "      <td>0.018974</td>\n",
       "      <td>object</td>\n",
       "    </tr>\n",
       "    <tr>\n",
       "      <th>description</th>\n",
       "      <td>2</td>\n",
       "      <td>0.001650</td>\n",
       "      <td>object</td>\n",
       "    </tr>\n",
       "    <tr>\n",
       "      <th>property_type</th>\n",
       "      <td>0</td>\n",
       "      <td>0.000000</td>\n",
       "      <td>object</td>\n",
       "    </tr>\n",
       "    <tr>\n",
       "      <th>state_name</th>\n",
       "      <td>0</td>\n",
       "      <td>0.000000</td>\n",
       "      <td>object</td>\n",
       "    </tr>\n",
       "    <tr>\n",
       "      <th>country_name</th>\n",
       "      <td>0</td>\n",
       "      <td>0.000000</td>\n",
       "      <td>object</td>\n",
       "    </tr>\n",
       "    <tr>\n",
       "      <th>place_with_parent_names</th>\n",
       "      <td>0</td>\n",
       "      <td>0.000000</td>\n",
       "      <td>object</td>\n",
       "    </tr>\n",
       "    <tr>\n",
       "      <th>properati_url</th>\n",
       "      <td>0</td>\n",
       "      <td>0.000000</td>\n",
       "      <td>object</td>\n",
       "    </tr>\n",
       "    <tr>\n",
       "      <th>title</th>\n",
       "      <td>0</td>\n",
       "      <td>0.000000</td>\n",
       "      <td>object</td>\n",
       "    </tr>\n",
       "    <tr>\n",
       "      <th>operation</th>\n",
       "      <td>0</td>\n",
       "      <td>0.000000</td>\n",
       "      <td>object</td>\n",
       "    </tr>\n",
       "  </tbody>\n",
       "</table>\n",
       "</div>"
      ],
      "text/plain": [
       "                            NaNs #     NaNs %     Type\n",
       "floor                       113321  93.483749  float64\n",
       "expenses                    106958  88.234615  float64\n",
       "rooms                        73830  60.905791  float64\n",
       "price_usd_per_m2             52603  43.394654  float64\n",
       "lat-lon                      51550  42.525986   object\n",
       "lat                          51550  42.525986  float64\n",
       "lon                          51550  42.525986  float64\n",
       "surface_total_in_m2          39328  32.443491  float64\n",
       "price_per_m2                 33562  27.686850  float64\n",
       "currency                     20411  16.837981   object\n",
       "price_aprox_local_currency   20410  16.837156  float64\n",
       "price                        20410  16.837156  float64\n",
       "price_aprox_usd              20410  16.837156  float64\n",
       "surface_covered_in_m2        19907  16.422208  float64\n",
       "geonames_id                  18717  15.440521  float64\n",
       "image_thumbnail               3112   2.567233   object\n",
       "place_name                      23   0.018974   object\n",
       "description                      2   0.001650   object\n",
       "property_type                    0   0.000000   object\n",
       "state_name                       0   0.000000   object\n",
       "country_name                     0   0.000000   object\n",
       "place_with_parent_names          0   0.000000   object\n",
       "properati_url                    0   0.000000   object\n",
       "title                            0   0.000000   object\n",
       "operation                        0   0.000000   object"
      ]
     },
     "execution_count": 10,
     "metadata": {},
     "output_type": "execute_result"
    }
   ],
   "source": [
    "# Obtengo la Info\n",
    "df_info = inspect_dataframe(dataframe)\n",
    "# Muestro la info\n",
    "df_info"
   ]
  },
  {
   "cell_type": "markdown",
   "metadata": {},
   "source": [
    "A partir de la información del dataset podemos observar que existen columnas con muy pocos datos nulos y otras con una gran cantidad. De estas columnas, tenemos que definir cuales son significativas y vamos a requerir procesar los datos nulos, y cuales no."
   ]
  },
  {
   "cell_type": "markdown",
   "metadata": {},
   "source": [
    "## Observación de registros iniciales\n",
    "Observamos los primeros registros para entender un poco como están representados los datos."
   ]
  },
  {
   "cell_type": "code",
   "execution_count": 11,
   "metadata": {},
   "outputs": [
    {
     "data": {
      "text/html": [
       "<div>\n",
       "<style>\n",
       "    .dataframe thead tr:only-child th {\n",
       "        text-align: right;\n",
       "    }\n",
       "\n",
       "    .dataframe thead th {\n",
       "        text-align: left;\n",
       "    }\n",
       "\n",
       "    .dataframe tbody tr th {\n",
       "        vertical-align: top;\n",
       "    }\n",
       "</style>\n",
       "<table border=\"1\" class=\"dataframe\">\n",
       "  <thead>\n",
       "    <tr style=\"text-align: right;\">\n",
       "      <th></th>\n",
       "      <th>operation</th>\n",
       "      <th>property_type</th>\n",
       "      <th>place_name</th>\n",
       "      <th>place_with_parent_names</th>\n",
       "      <th>country_name</th>\n",
       "      <th>state_name</th>\n",
       "      <th>geonames_id</th>\n",
       "      <th>lat-lon</th>\n",
       "      <th>lat</th>\n",
       "      <th>lon</th>\n",
       "      <th>...</th>\n",
       "      <th>surface_covered_in_m2</th>\n",
       "      <th>price_usd_per_m2</th>\n",
       "      <th>price_per_m2</th>\n",
       "      <th>floor</th>\n",
       "      <th>rooms</th>\n",
       "      <th>expenses</th>\n",
       "      <th>properati_url</th>\n",
       "      <th>description</th>\n",
       "      <th>title</th>\n",
       "      <th>image_thumbnail</th>\n",
       "    </tr>\n",
       "  </thead>\n",
       "  <tbody>\n",
       "    <tr>\n",
       "      <th>0</th>\n",
       "      <td>sell</td>\n",
       "      <td>PH</td>\n",
       "      <td>Mataderos</td>\n",
       "      <td>|Argentina|Capital Federal|Mataderos|</td>\n",
       "      <td>Argentina</td>\n",
       "      <td>Capital Federal</td>\n",
       "      <td>3430787.0</td>\n",
       "      <td>-34.6618237,-58.5088387</td>\n",
       "      <td>-34.661824</td>\n",
       "      <td>-58.508839</td>\n",
       "      <td>...</td>\n",
       "      <td>40.0</td>\n",
       "      <td>1127.272727</td>\n",
       "      <td>1550.000000</td>\n",
       "      <td>NaN</td>\n",
       "      <td>NaN</td>\n",
       "      <td>NaN</td>\n",
       "      <td>http://www.properati.com.ar/15bo8_venta_ph_mat...</td>\n",
       "      <td>2 AMBIENTES TIPO CASA PLANTA BAJA POR PASILLO,...</td>\n",
       "      <td>2 AMB TIPO CASA SIN EXPENSAS EN PB</td>\n",
       "      <td>https://thumbs4.properati.com/8/BluUYiHJLhgIIK...</td>\n",
       "    </tr>\n",
       "    <tr>\n",
       "      <th>1</th>\n",
       "      <td>sell</td>\n",
       "      <td>apartment</td>\n",
       "      <td>La Plata</td>\n",
       "      <td>|Argentina|Bs.As. G.B.A. Zona Sur|La Plata|</td>\n",
       "      <td>Argentina</td>\n",
       "      <td>Bs.As. G.B.A. Zona Sur</td>\n",
       "      <td>3432039.0</td>\n",
       "      <td>-34.9038831,-57.9643295</td>\n",
       "      <td>-34.903883</td>\n",
       "      <td>-57.964330</td>\n",
       "      <td>...</td>\n",
       "      <td>NaN</td>\n",
       "      <td>NaN</td>\n",
       "      <td>NaN</td>\n",
       "      <td>NaN</td>\n",
       "      <td>NaN</td>\n",
       "      <td>NaN</td>\n",
       "      <td>http://www.properati.com.ar/15bob_venta_depart...</td>\n",
       "      <td>Venta de departamento en décimo piso al frente...</td>\n",
       "      <td>VENTA Depto 2 dorm. a estrenar 7 e/ 36 y 37   ...</td>\n",
       "      <td>https://thumbs4.properati.com/7/ikpVBu2ztHA7jv...</td>\n",
       "    </tr>\n",
       "    <tr>\n",
       "      <th>2</th>\n",
       "      <td>sell</td>\n",
       "      <td>apartment</td>\n",
       "      <td>Mataderos</td>\n",
       "      <td>|Argentina|Capital Federal|Mataderos|</td>\n",
       "      <td>Argentina</td>\n",
       "      <td>Capital Federal</td>\n",
       "      <td>3430787.0</td>\n",
       "      <td>-34.6522615,-58.5229825</td>\n",
       "      <td>-34.652262</td>\n",
       "      <td>-58.522982</td>\n",
       "      <td>...</td>\n",
       "      <td>55.0</td>\n",
       "      <td>1309.090909</td>\n",
       "      <td>1309.090909</td>\n",
       "      <td>NaN</td>\n",
       "      <td>NaN</td>\n",
       "      <td>NaN</td>\n",
       "      <td>http://www.properati.com.ar/15bod_venta_depart...</td>\n",
       "      <td>2 AMBIENTES 3ER PISO LATERAL LIVING COMEDOR AM...</td>\n",
       "      <td>2 AMB 3ER PISO CON ASCENSOR APTO CREDITO</td>\n",
       "      <td>https://thumbs4.properati.com/5/SXKr34F_IwG3W_...</td>\n",
       "    </tr>\n",
       "    <tr>\n",
       "      <th>3</th>\n",
       "      <td>sell</td>\n",
       "      <td>PH</td>\n",
       "      <td>Liniers</td>\n",
       "      <td>|Argentina|Capital Federal|Liniers|</td>\n",
       "      <td>Argentina</td>\n",
       "      <td>Capital Federal</td>\n",
       "      <td>3431333.0</td>\n",
       "      <td>-34.6477969,-58.5164244</td>\n",
       "      <td>-34.647797</td>\n",
       "      <td>-58.516424</td>\n",
       "      <td>...</td>\n",
       "      <td>NaN</td>\n",
       "      <td>NaN</td>\n",
       "      <td>NaN</td>\n",
       "      <td>NaN</td>\n",
       "      <td>NaN</td>\n",
       "      <td>NaN</td>\n",
       "      <td>http://www.properati.com.ar/15boh_venta_ph_lin...</td>\n",
       "      <td>PH 3 ambientes con patio. Hay 3 deptos en lote...</td>\n",
       "      <td>PH 3 amb. cfte. reciclado</td>\n",
       "      <td>https://thumbs4.properati.com/3/DgIfX-85Mog5SP...</td>\n",
       "    </tr>\n",
       "    <tr>\n",
       "      <th>4</th>\n",
       "      <td>sell</td>\n",
       "      <td>apartment</td>\n",
       "      <td>Centro</td>\n",
       "      <td>|Argentina|Buenos Aires Costa Atlántica|Mar de...</td>\n",
       "      <td>Argentina</td>\n",
       "      <td>Buenos Aires Costa Atlántica</td>\n",
       "      <td>3435548.0</td>\n",
       "      <td>-38.0026256,-57.5494468</td>\n",
       "      <td>-38.002626</td>\n",
       "      <td>-57.549447</td>\n",
       "      <td>...</td>\n",
       "      <td>35.0</td>\n",
       "      <td>1828.571429</td>\n",
       "      <td>1828.571429</td>\n",
       "      <td>NaN</td>\n",
       "      <td>NaN</td>\n",
       "      <td>NaN</td>\n",
       "      <td>http://www.properati.com.ar/15bok_venta_depart...</td>\n",
       "      <td>DEPARTAMENTO CON FANTÁSTICA ILUMINACIÓN NATURA...</td>\n",
       "      <td>DEPTO 2 AMB AL CONTRAFRENTE ZONA CENTRO/PLAZA ...</td>\n",
       "      <td>https://thumbs4.properati.com/5/xrRqlNcSI_vs-f...</td>\n",
       "    </tr>\n",
       "    <tr>\n",
       "      <th>5</th>\n",
       "      <td>sell</td>\n",
       "      <td>house</td>\n",
       "      <td>Gualeguaychú</td>\n",
       "      <td>|Argentina|Entre Ríos|Gualeguaychú|</td>\n",
       "      <td>Argentina</td>\n",
       "      <td>Entre Ríos</td>\n",
       "      <td>3433657.0</td>\n",
       "      <td>-33.0140714,-58.519828</td>\n",
       "      <td>-33.014071</td>\n",
       "      <td>-58.519828</td>\n",
       "      <td>...</td>\n",
       "      <td>NaN</td>\n",
       "      <td>NaN</td>\n",
       "      <td>NaN</td>\n",
       "      <td>NaN</td>\n",
       "      <td>NaN</td>\n",
       "      <td>NaN</td>\n",
       "      <td>http://www.properati.com.ar/15bop_venta_depart...</td>\n",
       "      <td>Casa en el perímetro del barrio 338, ubicada e...</td>\n",
       "      <td>Casa Barrio 338. Sobre calle 3 de caballería, ...</td>\n",
       "      <td>https://thumbs4.properati.com/6/q-w68gvaUEQVXI...</td>\n",
       "    </tr>\n",
       "    <tr>\n",
       "      <th>6</th>\n",
       "      <td>sell</td>\n",
       "      <td>PH</td>\n",
       "      <td>Munro</td>\n",
       "      <td>|Argentina|Bs.As. G.B.A. Zona Norte|Vicente Ló...</td>\n",
       "      <td>Argentina</td>\n",
       "      <td>Bs.As. G.B.A. Zona Norte</td>\n",
       "      <td>3430511.0</td>\n",
       "      <td>-34.5329567,-58.5217825</td>\n",
       "      <td>-34.532957</td>\n",
       "      <td>-58.521782</td>\n",
       "      <td>...</td>\n",
       "      <td>78.0</td>\n",
       "      <td>1226.415094</td>\n",
       "      <td>1666.666667</td>\n",
       "      <td>NaN</td>\n",
       "      <td>NaN</td>\n",
       "      <td>NaN</td>\n",
       "      <td>http://www.properati.com.ar/15bor_venta_ph_mun...</td>\n",
       "      <td>MUY BUEN PH AL FRENTE CON ENTRADA INDEPENDIENT...</td>\n",
       "      <td>MUY BUEN PH AL FRENTE DOS DORMITORIOS , PATIO,...</td>\n",
       "      <td>https://thumbs4.properati.com/5/6GOXsHCyDu1aGx...</td>\n",
       "    </tr>\n",
       "    <tr>\n",
       "      <th>7</th>\n",
       "      <td>sell</td>\n",
       "      <td>apartment</td>\n",
       "      <td>Belgrano</td>\n",
       "      <td>|Argentina|Capital Federal|Belgrano|</td>\n",
       "      <td>Argentina</td>\n",
       "      <td>Capital Federal</td>\n",
       "      <td>3436077.0</td>\n",
       "      <td>-34.5598729,-58.443362</td>\n",
       "      <td>-34.559873</td>\n",
       "      <td>-58.443362</td>\n",
       "      <td>...</td>\n",
       "      <td>40.0</td>\n",
       "      <td>3066.666667</td>\n",
       "      <td>3450.000000</td>\n",
       "      <td>NaN</td>\n",
       "      <td>NaN</td>\n",
       "      <td>NaN</td>\n",
       "      <td>http://www.properati.com.ar/15bot_venta_depart...</td>\n",
       "      <td>EXCELENTE MONOAMBIENTE A ESTRENAR AMPLIO SUPER...</td>\n",
       "      <td>JOSE HERNANDEZ 1400 MONOAMBIENTE  ESTRENAR CAT...</td>\n",
       "      <td>https://thumbs4.properati.com/1/IHxARynlr8sPEW...</td>\n",
       "    </tr>\n",
       "    <tr>\n",
       "      <th>8</th>\n",
       "      <td>sell</td>\n",
       "      <td>apartment</td>\n",
       "      <td>Belgrano</td>\n",
       "      <td>|Argentina|Capital Federal|Belgrano|</td>\n",
       "      <td>Argentina</td>\n",
       "      <td>Capital Federal</td>\n",
       "      <td>3436077.0</td>\n",
       "      <td>-34.5598729,-58.443362</td>\n",
       "      <td>-34.559873</td>\n",
       "      <td>-58.443362</td>\n",
       "      <td>...</td>\n",
       "      <td>60.0</td>\n",
       "      <td>3000.000000</td>\n",
       "      <td>3250.000000</td>\n",
       "      <td>NaN</td>\n",
       "      <td>NaN</td>\n",
       "      <td>NaN</td>\n",
       "      <td>http://www.properati.com.ar/15bou_venta_depart...</td>\n",
       "      <td>EXCELENTE DOS AMBIENTES  ESTRENAR AMPLIO SUPER...</td>\n",
       "      <td>JOSE HERNANDEZ   1400 DOS AMBIENTES ESTRENAR ,...</td>\n",
       "      <td>https://thumbs4.properati.com/2/J3zOjgaFHrkvnv...</td>\n",
       "    </tr>\n",
       "    <tr>\n",
       "      <th>9</th>\n",
       "      <td>sell</td>\n",
       "      <td>house</td>\n",
       "      <td>Rosario</td>\n",
       "      <td>|Argentina|Santa Fe|Rosario|</td>\n",
       "      <td>Argentina</td>\n",
       "      <td>Santa Fe</td>\n",
       "      <td>3838574.0</td>\n",
       "      <td>-32.942031,-60.7259192</td>\n",
       "      <td>-32.942031</td>\n",
       "      <td>-60.725919</td>\n",
       "      <td>...</td>\n",
       "      <td>NaN</td>\n",
       "      <td>NaN</td>\n",
       "      <td>NaN</td>\n",
       "      <td>NaN</td>\n",
       "      <td>NaN</td>\n",
       "      <td>NaN</td>\n",
       "      <td>http://www.properati.com.ar/15box_venta_casa_r...</td>\n",
       "      <td>MEDNOZA AL 7600A UNA CUADRA DE CALLE MENDOZAWH...</td>\n",
       "      <td>WHITE 7637 - 2 DORMITORIOS CON PATIO</td>\n",
       "      <td>https://thumbs4.properati.com/8/RCf1YEWdF4rv98...</td>\n",
       "    </tr>\n",
       "  </tbody>\n",
       "</table>\n",
       "<p>10 rows × 25 columns</p>\n",
       "</div>"
      ],
      "text/plain": [
       "  operation property_type    place_name  \\\n",
       "0      sell            PH     Mataderos   \n",
       "1      sell     apartment      La Plata   \n",
       "2      sell     apartment     Mataderos   \n",
       "3      sell            PH       Liniers   \n",
       "4      sell     apartment        Centro   \n",
       "5      sell         house  Gualeguaychú   \n",
       "6      sell            PH         Munro   \n",
       "7      sell     apartment      Belgrano   \n",
       "8      sell     apartment      Belgrano   \n",
       "9      sell         house       Rosario   \n",
       "\n",
       "                             place_with_parent_names country_name  \\\n",
       "0              |Argentina|Capital Federal|Mataderos|    Argentina   \n",
       "1        |Argentina|Bs.As. G.B.A. Zona Sur|La Plata|    Argentina   \n",
       "2              |Argentina|Capital Federal|Mataderos|    Argentina   \n",
       "3                |Argentina|Capital Federal|Liniers|    Argentina   \n",
       "4  |Argentina|Buenos Aires Costa Atlántica|Mar de...    Argentina   \n",
       "5                |Argentina|Entre Ríos|Gualeguaychú|    Argentina   \n",
       "6  |Argentina|Bs.As. G.B.A. Zona Norte|Vicente Ló...    Argentina   \n",
       "7               |Argentina|Capital Federal|Belgrano|    Argentina   \n",
       "8               |Argentina|Capital Federal|Belgrano|    Argentina   \n",
       "9                       |Argentina|Santa Fe|Rosario|    Argentina   \n",
       "\n",
       "                     state_name  geonames_id                  lat-lon  \\\n",
       "0               Capital Federal    3430787.0  -34.6618237,-58.5088387   \n",
       "1        Bs.As. G.B.A. Zona Sur    3432039.0  -34.9038831,-57.9643295   \n",
       "2               Capital Federal    3430787.0  -34.6522615,-58.5229825   \n",
       "3               Capital Federal    3431333.0  -34.6477969,-58.5164244   \n",
       "4  Buenos Aires Costa Atlántica    3435548.0  -38.0026256,-57.5494468   \n",
       "5                    Entre Ríos    3433657.0   -33.0140714,-58.519828   \n",
       "6      Bs.As. G.B.A. Zona Norte    3430511.0  -34.5329567,-58.5217825   \n",
       "7               Capital Federal    3436077.0   -34.5598729,-58.443362   \n",
       "8               Capital Federal    3436077.0   -34.5598729,-58.443362   \n",
       "9                      Santa Fe    3838574.0   -32.942031,-60.7259192   \n",
       "\n",
       "         lat        lon                        ...                          \\\n",
       "0 -34.661824 -58.508839                        ...                           \n",
       "1 -34.903883 -57.964330                        ...                           \n",
       "2 -34.652262 -58.522982                        ...                           \n",
       "3 -34.647797 -58.516424                        ...                           \n",
       "4 -38.002626 -57.549447                        ...                           \n",
       "5 -33.014071 -58.519828                        ...                           \n",
       "6 -34.532957 -58.521782                        ...                           \n",
       "7 -34.559873 -58.443362                        ...                           \n",
       "8 -34.559873 -58.443362                        ...                           \n",
       "9 -32.942031 -60.725919                        ...                           \n",
       "\n",
       "   surface_covered_in_m2 price_usd_per_m2  price_per_m2  floor  rooms  \\\n",
       "0                   40.0      1127.272727   1550.000000    NaN    NaN   \n",
       "1                    NaN              NaN           NaN    NaN    NaN   \n",
       "2                   55.0      1309.090909   1309.090909    NaN    NaN   \n",
       "3                    NaN              NaN           NaN    NaN    NaN   \n",
       "4                   35.0      1828.571429   1828.571429    NaN    NaN   \n",
       "5                    NaN              NaN           NaN    NaN    NaN   \n",
       "6                   78.0      1226.415094   1666.666667    NaN    NaN   \n",
       "7                   40.0      3066.666667   3450.000000    NaN    NaN   \n",
       "8                   60.0      3000.000000   3250.000000    NaN    NaN   \n",
       "9                    NaN              NaN           NaN    NaN    NaN   \n",
       "\n",
       "   expenses                                      properati_url  \\\n",
       "0       NaN  http://www.properati.com.ar/15bo8_venta_ph_mat...   \n",
       "1       NaN  http://www.properati.com.ar/15bob_venta_depart...   \n",
       "2       NaN  http://www.properati.com.ar/15bod_venta_depart...   \n",
       "3       NaN  http://www.properati.com.ar/15boh_venta_ph_lin...   \n",
       "4       NaN  http://www.properati.com.ar/15bok_venta_depart...   \n",
       "5       NaN  http://www.properati.com.ar/15bop_venta_depart...   \n",
       "6       NaN  http://www.properati.com.ar/15bor_venta_ph_mun...   \n",
       "7       NaN  http://www.properati.com.ar/15bot_venta_depart...   \n",
       "8       NaN  http://www.properati.com.ar/15bou_venta_depart...   \n",
       "9       NaN  http://www.properati.com.ar/15box_venta_casa_r...   \n",
       "\n",
       "                                         description  \\\n",
       "0  2 AMBIENTES TIPO CASA PLANTA BAJA POR PASILLO,...   \n",
       "1  Venta de departamento en décimo piso al frente...   \n",
       "2  2 AMBIENTES 3ER PISO LATERAL LIVING COMEDOR AM...   \n",
       "3  PH 3 ambientes con patio. Hay 3 deptos en lote...   \n",
       "4  DEPARTAMENTO CON FANTÁSTICA ILUMINACIÓN NATURA...   \n",
       "5  Casa en el perímetro del barrio 338, ubicada e...   \n",
       "6  MUY BUEN PH AL FRENTE CON ENTRADA INDEPENDIENT...   \n",
       "7  EXCELENTE MONOAMBIENTE A ESTRENAR AMPLIO SUPER...   \n",
       "8  EXCELENTE DOS AMBIENTES  ESTRENAR AMPLIO SUPER...   \n",
       "9  MEDNOZA AL 7600A UNA CUADRA DE CALLE MENDOZAWH...   \n",
       "\n",
       "                                               title  \\\n",
       "0                 2 AMB TIPO CASA SIN EXPENSAS EN PB   \n",
       "1  VENTA Depto 2 dorm. a estrenar 7 e/ 36 y 37   ...   \n",
       "2           2 AMB 3ER PISO CON ASCENSOR APTO CREDITO   \n",
       "3                       PH 3 amb. cfte. reciclado      \n",
       "4  DEPTO 2 AMB AL CONTRAFRENTE ZONA CENTRO/PLAZA ...   \n",
       "5  Casa Barrio 338. Sobre calle 3 de caballería, ...   \n",
       "6  MUY BUEN PH AL FRENTE DOS DORMITORIOS , PATIO,...   \n",
       "7  JOSE HERNANDEZ 1400 MONOAMBIENTE  ESTRENAR CAT...   \n",
       "8  JOSE HERNANDEZ   1400 DOS AMBIENTES ESTRENAR ,...   \n",
       "9         WHITE 7637 - 2 DORMITORIOS CON PATIO         \n",
       "\n",
       "                                     image_thumbnail  \n",
       "0  https://thumbs4.properati.com/8/BluUYiHJLhgIIK...  \n",
       "1  https://thumbs4.properati.com/7/ikpVBu2ztHA7jv...  \n",
       "2  https://thumbs4.properati.com/5/SXKr34F_IwG3W_...  \n",
       "3  https://thumbs4.properati.com/3/DgIfX-85Mog5SP...  \n",
       "4  https://thumbs4.properati.com/5/xrRqlNcSI_vs-f...  \n",
       "5  https://thumbs4.properati.com/6/q-w68gvaUEQVXI...  \n",
       "6  https://thumbs4.properati.com/5/6GOXsHCyDu1aGx...  \n",
       "7  https://thumbs4.properati.com/1/IHxARynlr8sPEW...  \n",
       "8  https://thumbs4.properati.com/2/J3zOjgaFHrkvnv...  \n",
       "9  https://thumbs4.properati.com/8/RCf1YEWdF4rv98...  \n",
       "\n",
       "[10 rows x 25 columns]"
      ]
     },
     "execution_count": 11,
     "metadata": {},
     "output_type": "execute_result"
    }
   ],
   "source": [
    "dataframe.head(10)"
   ]
  },
  {
   "cell_type": "markdown",
   "metadata": {},
   "source": [
    "## Filtrar ciudades\n",
    "Filtramos para obtener solo las ciudades elegidas en la configuración"
   ]
  },
  {
   "cell_type": "code",
   "execution_count": 12,
   "metadata": {
    "collapsed": true
   },
   "outputs": [],
   "source": [
    "dataframe = dataframe.loc[\n",
    "    (dataframe['place_with_parent_names'].str.lower().str.contains('|'.join(UBICACIONES))) |\n",
    "    (len(EXCLUIR_UBICACIONES) == 0 | (~dataframe['place_with_parent_names'].str.lower().str.contains('|'.join(EXCLUIR_UBICACIONES))))\n",
    "    ]"
   ]
  },
  {
   "cell_type": "markdown",
   "metadata": {},
   "source": [
    "## Es barrio Privado?\n",
    "Creamos una nueva categoría que nos permite identificar si una propiedad está ubicada en un barrio privado. Realizamos esto como primer paso, ya que vamos a crear un nuevo CSV con esta información extra, para que cuando corramos el proceso nuevamente, no haya que volver a realizar el calculo.<br>\n",
    "Simplemente guardamos los datos procesados la primera vez, y las proximas veces se lee el nuevo CSV sin la necesidad de correr el proceso otra vez."
   ]
  },
  {
   "cell_type": "code",
   "execution_count": 13,
   "metadata": {
    "collapsed": true
   },
   "outputs": [],
   "source": [
    "from IPython.display import clear_output\n",
    "import gpxpy.geo\n",
    "\n",
    "\n",
    "# Funcion que nos permite definir si una propiedad está ubicada dentro de un barrio privado\n",
    "def obtener_barrio_privado(row_propiedad, barrios):\n",
    "    \n",
    "    \n",
    "    # Aca voy a guardar la dictancia minima encontrada para esta propiedad\n",
    "    distancia_minima = np.nan\n",
    "    \n",
    "    # Aca guardo el barrio con la distancia mínima para esta propiedad\n",
    "    barrio_cercano = np.nan\n",
    "\n",
    "    # Recorremos cada barrio y obtenemos la distancia entre la propiedad y el barrio.\n",
    "    # Por cada barrio\n",
    "    for i, barrio in barrios.iterrows():\n",
    "        \n",
    "        # Obtengo la distancia entre el barrio y la propiedad\n",
    "        #distancia = haversine(barrio['lat'], barrio['lon'], row_propiedad['lat'], row_propiedad['lon'])\n",
    "        distancia = gpxpy.geo.haversine_distance(barrio['lat'], barrio['lon'], row_propiedad['lat'], row_propiedad['lon'])\n",
    "        \n",
    "        # Si la distancia no es un nan\n",
    "        if ~np.isnan(distancia):\n",
    "            \n",
    "            # Si la distancia anterior es nan o la distancia encontrada es menor que la distancia mínima encontrada anteriormente\n",
    "            if (np.isnan(distancia_minima)) | (distancia < distancia_minima):\n",
    "                # Asigno el barrio a la variable barrio_cercano\n",
    "                barrio_cercano = barrio\n",
    "                \n",
    "                # Asigno la nueva distancia\n",
    "                distancia_minima = distancia\n",
    "                    \n",
    "        \n",
    "    if (~np.isnan(distancia_minima)):\n",
    "        # Le asigno el valor de distancoia y barrio a la propiedad, teniendo en cuenta que si no encontró ninguna,\n",
    "        # estos valores van a ser nan\n",
    "        row_propiedad['distancia_barrio_privado'] = distancia_minima\n",
    "        row_propiedad['nombre_barrio_privado'] = barrio_cercano['barrio']\n",
    "            \n",
    "    \n",
    "    return row_propiedad"
   ]
  },
  {
   "cell_type": "markdown",
   "metadata": {},
   "source": [
    "### Ejecutamos la función.\n",
    "Creamos un CSV con los datos procesados hasta acá. Esto nos sirve para que no procese todo el tiempo los barrios privados, ya que es un proceso MUY largo."
   ]
  },
  {
   "cell_type": "code",
   "execution_count": 14,
   "metadata": {},
   "outputs": [],
   "source": [
    "import os.path\n",
    "\n",
    "if IDENTIFICAR_BARRIOS_PRIVADOS:\n",
    "    \n",
    "    # Nombre del dataset con los barrios privados ya procesados\n",
    "    dataset_con_barrios = 'properatti_barrios_privados_sup_total.csv'\n",
    "    \n",
    "    # Si el archivo existe\n",
    "    if os.path.isfile(dataset_con_barrios):\n",
    "        # Cargo del archivo en el dataframe original\n",
    "        dataframe = pd.read_csv(dataset_con_barrios, encoding='latin1')\n",
    "    else:\n",
    "        # Si el archivo no existía\n",
    "        # Creo las columnas de barrio privado y distancia\n",
    "        dataframe['distancia_barrio_privado'] = np.nan\n",
    "        dataframe['nombre_barrio_privado'] = np.nan\n",
    "    \n",
    "    \n",
    "    # Obtengo las ciudades de los barrios\n",
    "    ciudades_barrios_privados = BARRIOS_PRIVADOS['ciudad'].str.lower().unique()\n",
    "        \n",
    "    # Obtengo solo las propiedades que estan en las ciudades de los barrios privados Y QUE NO TENGAN LA DISTANCIA\n",
    "    df_busqueda = dataframe.loc[(dataframe['distancia_barrio_privado'].isnull()) & # Que aun no tengan la distancia\n",
    "                                (~dataframe['place_name'].isnull()) &  # Que tengan nombre de ciudad\n",
    "                                (dataframe['place_name'].str.lower().str.contains('|'.join(ciudades_barrios_privados)))\n",
    "                                ].copy()\n",
    "        \n",
    "    print(len(df_busqueda),'estan en ciudades de barrios privados')\n",
    "        \n",
    "    totalciudades = len(ciudades_barrios_privados)\n",
    "    current = 1\n",
    "    \n",
    "    # Sabemosque si hay 1577 propiedades, ya estan procesadas por lo que no corremos el proceso si tenemos esa cantidad\n",
    "    if len(df_busqueda) > 1577:\n",
    "        # por cada ciudad de los barrios\n",
    "        for ciudad in ciudades_barrios_privados:\n",
    "    \n",
    "            # Obtengo los barrios de cada ciudad\n",
    "            df_barrios = BARRIOS_PRIVADOS.loc[BARRIOS_PRIVADOS['ciudad'].str.lower() == ciudad.lower()].copy()\n",
    "            \n",
    "            # Obtengo las propiedades que son de esa ciudad\n",
    "            df_props_ciudad = df_busqueda.loc[(df_busqueda['distancia_barrio_privado'].isnull()) &\n",
    "                                              (~df_busqueda['place_name'].isnull()) & \n",
    "                                              (df_busqueda['place_name'].str.lower().str.contains(ciudad.lower()))].copy()\n",
    "            \n",
    "            # Solo proceso si hay propiedades para esa ciudad.\n",
    "            if (len(df_props_ciudad) > 0):\n",
    "                \n",
    "                print('Procesando ciudad',ciudad,'-',current,'de',totalciudades,'-',len(df_props_ciudad),'propiedades')\n",
    "                \n",
    "                # Recorremos cada propiedad y tratamos de obtener el barrio privado mas cercano a esa propiedad, basados en la ubicación.    \n",
    "                df_props_ciudad = df_props_ciudad.apply(obtener_barrio_privado, axis=1, barrios=df_barrios)\n",
    "        \n",
    "                # Actualizo los valores \n",
    "                df_busqueda.update(df_props_ciudad)\n",
    "            \n",
    "                current = current + 1\n",
    "            \n",
    "                # Actulizo los valores del dataframe original con los del dataframe con los barrios\n",
    "                dataframe.update(df_busqueda)\n",
    "\n",
    "                # guardo dataframe actualizado    \n",
    "                dataframe.to_csv(dataset_con_barrios, index=False)    \n"
   ]
  },
  {
   "cell_type": "markdown",
   "metadata": {},
   "source": [
    "### Propiedades que no estan cerca de barrios.\n",
    "Creamos una nueva feature que indica que la propiedad no está cerca de ningún barrio privado. Esto lo hacemos por que las propiedades que no estan cerca, tienen distancia CERO y esperamos que el modelo compute con mas peso a los valores mas cercanos a los barrios privados. Si agregamos una columna con valor 1 para las propiedades que tienen distancia 0 a los barrios privados, se genera un beta ($\\beta$) nuevo para esas.\n"
   ]
  },
  {
   "cell_type": "code",
   "execution_count": 15,
   "metadata": {
    "collapsed": true
   },
   "outputs": [],
   "source": [
    "if IDENTIFICAR_BARRIOS_PRIVADOS:\n",
    "    # Creamos la columna que indica que no está cerca de un barrio privado (bp)\n",
    "    dataframe['sin_cercania_a_bp'] = 0\n",
    "    \n",
    "    # Asignamos el valor 0 a la columna 'distancia_barrio_privado',  1 a la columna sin_cercania_a_bp\n",
    "    # y 'None' a la columna nombre_barrio_privado\n",
    "    dataframe.loc[\n",
    "        (dataframe['distancia_barrio_privado'].isnull()) |  # Si la columna distancia_barrio_privado es null\n",
    "        (dataframe['distancia_barrio_privado'].isnull() > 7), # O si la columna distancia barrio privado es mayor a 7\n",
    "        ['distancia_barrio_privado','sin_cercania_a_bp', 'nombre_barrio_privado']] = [0,1,'None']\n",
    "    \n",
    "    # Le asignamos el valor None a la columna nombre_barrio_privado donde es mayor que 7 NULL\n",
    "    dataframe.loc[(dataframe['sin_cercania_a_bp'] == 1),'nombre_barrio_privado'] = 'None'"
   ]
  },
  {
   "cell_type": "markdown",
   "metadata": {},
   "source": [
    "# Data Cleaning\n",
    "Comenzamos el proceso de limpieza de datos. "
   ]
  },
  {
   "cell_type": "markdown",
   "metadata": {
    "collapsed": true
   },
   "source": [
    "## Floor\n",
    "El campo floor representa el piso en donde está ubicada la propiedad, si corresponde. Asumimos que tienen NaN, las propiedades que no son apartment, pero hacemos la verificación para comprobarlo."
   ]
  },
  {
   "cell_type": "code",
   "execution_count": 16,
   "metadata": {},
   "outputs": [
    {
     "name": "stdout",
     "output_type": "stream",
     "text": [
      "De un total de 113321 registros nulos en floor,\n",
      "existen 64544 registros del tipo *apartment*, con valor NaN en floor.\n",
      "0.5695678647382215 %.\n"
     ]
    }
   ],
   "source": [
    "# Obtengo el valor de NaNs en el campo floor\n",
    "total_nan_floor = df_info.loc['floor']['NaNs #']\n",
    "\n",
    "# Obtengo el total de valores NaN en el campo floor, cuando property_type es apartment.\n",
    "total_nan_floor_apartment = len(dataframe.loc[(dataframe['property_type'] == 'apartment') & (dataframe['floor'].isnull())])\n",
    "\n",
    "# Muestro los datos\n",
    "print('De un total de',total_nan_floor,'registros nulos en floor,')\n",
    "print('existen',total_nan_floor_apartment,'registros del tipo *apartment*, con valor NaN en floor.')\n",
    "print(str(total_nan_floor_apartment / total_nan_floor),'%.')"
   ]
  },
  {
   "cell_type": "markdown",
   "metadata": {},
   "source": [
    "A todas las propiedades les imputamos el valor 0 y creamos una variable que indica si a ese registro se le imputó un valor.<br>\n",
    "La columna se va a llamar **floor_was_nan**"
   ]
  },
  {
   "cell_type": "code",
   "execution_count": 17,
   "metadata": {},
   "outputs": [
    {
     "data": {
      "text/plain": [
       "113321"
      ]
     },
     "execution_count": 17,
     "metadata": {},
     "output_type": "execute_result"
    }
   ],
   "source": [
    "# Imputamos 0 y creamos un flag que indica la imputación\n",
    "impute_nans_with_flag('floor', dataframe, 0, True)\n",
    "\n",
    "dataframe.loc[dataframe['floor_was_nan'] == True, 'floor_was_nan'].count()"
   ]
  },
  {
   "cell_type": "markdown",
   "metadata": {},
   "source": [
    "### Pisos 0\n",
    "Para mantener una coherencia, vamos a establecer que cuando el FLOOR es 0, va a ser 1."
   ]
  },
  {
   "cell_type": "code",
   "execution_count": 18,
   "metadata": {
    "collapsed": true
   },
   "outputs": [],
   "source": [
    "dataframe.loc[dataframe['floor'] == 0,'floor'] = 1"
   ]
  },
  {
   "cell_type": "markdown",
   "metadata": {},
   "source": [
    "## Expenses"
   ]
  },
  {
   "cell_type": "markdown",
   "metadata": {},
   "source": [
    "Al igual que la columna floor, esta columna tiene una gran cantidad de datos missing (88%). Aplicamos la misma técnica que en **floor** poniendo en 0 los valores nan y creando una variable que nos indica que esa columna fue imputada.<br>\n",
    "La columna se llamará **expenses_was_nan**"
   ]
  },
  {
   "cell_type": "code",
   "execution_count": 19,
   "metadata": {
    "collapsed": true
   },
   "outputs": [],
   "source": [
    "# Imputamos 1 y creamos un flag que indica la imputación\n",
    "impute_nans_with_flag('expenses', dataframe, 0, False)\n",
    "\n",
    "# Dividimos por 100 sin resto. Esto nos permite aplicarle un peso a las expensas mayores o iguales a 1000\n",
    "dataframe['expenses'] = (dataframe['expenses'] > 0).astype(int)\n",
    "#dataframe.loc[dataframe['expenses_was_nan'] == True, 'expenses_was_nan'].count()"
   ]
  },
  {
   "cell_type": "markdown",
   "metadata": {},
   "source": [
    "## Ubicación\n",
    "Vamos a usar la ubicación solo hasta el nivel indicado en la configuración<br>\n",
    "* 1: Pais\n",
    "* 2: Pais y Provincia\n",
    "* 3: Pais, Provincia y Ciudad\n",
    "* 4: Pais, Provincia, Ciudad y Barrio"
   ]
  },
  {
   "cell_type": "code",
   "execution_count": 20,
   "metadata": {
    "collapsed": true
   },
   "outputs": [],
   "source": [
    "# Obtenemos las ubicaciones hasta el 3er nivel.\n",
    "dataframe['place'] = dataframe['place_with_parent_names'].apply(lambda place: '|'.join(place.split('|')[1:NIVEL_UBICACION + 1]))\n",
    "\n",
    "# Eliminamos la columna place_with_parent_names\n",
    "dataframe = dataframe.drop('place_with_parent_names', axis=1)"
   ]
  },
  {
   "cell_type": "markdown",
   "metadata": {},
   "source": [
    "## Columnas concatenadas\n",
    "Existen dos columnas en el dataset, cuyos datos son la union de varios. A su vez, estos datos están procesados y separados en varias columnas.\n",
    "\n",
    "### Latitud y Longitud\n",
    "Está representado en la columna ***lat-lon*** con los dos valores en la misma columna tipo string y por las columnas ***lat*** y ***log*** (float). <br>\n",
    "Decidimos eliminar la columna ***lat-lon*** ya que nos es mas util tenerlas separadas que concatenadas.\n",
    "\n",
    "### Nombre de ubicaciones\n",
    "Existen 4 columnas columnas de nombres de ubicaciones, que representan el país, la zona y el barrio. ***place_with_parent_names*** contiene los tres valores separados por un pipe (\"**|**\") y luego, estos tres valores se repiten en las columnas ***country_name***, ***state_name*** y ***place_name***.  <br>\n",
    "Decidimos eliminar las columnas ***country_name***, ***state_name*** y ***place_name*** ya que son variables categóricas y la columna ***place_with_parent_names*** nos permite representar todas las posibilidades de categorías."
   ]
  },
  {
   "cell_type": "code",
   "execution_count": 21,
   "metadata": {},
   "outputs": [
    {
     "name": "stdout",
     "output_type": "stream",
     "text": [
      "La columna \" lat-lon \" va a ser eliminada del DataFrame\n",
      "La columna \" country_name \" va a ser eliminada del DataFrame\n",
      "La columna \" state_name \" va a ser eliminada del DataFrame\n",
      "La columna \" place_name \" va a ser eliminada del DataFrame\n"
     ]
    }
   ],
   "source": [
    "# Preparamos las columnas a eliminar\n",
    "add_column_to_drop('lat-lon', dataframe)\n",
    "add_column_to_drop('country_name', dataframe)\n",
    "add_column_to_drop('state_name', dataframe)\n",
    "add_column_to_drop('place_name', dataframe)"
   ]
  },
  {
   "cell_type": "markdown",
   "metadata": {},
   "source": [
    "## Superficie\n",
    "Analizamos las variables de superficie (**surface_total_in_m2** y **surface_covered_in_m2**) y su relación con el precio (**price**) para identificar si el precio está basado en la superficie cubierta o en la superficie total."
   ]
  },
  {
   "cell_type": "markdown",
   "metadata": {},
   "source": [
    "### Qué Representa el precio?"
   ]
  },
  {
   "cell_type": "markdown",
   "metadata": {},
   "source": [
    "Identificamos que el precio de las propiedades es por m2 totales (**surface_total_in_m2**), calculando el precio / precio por metro cuadrado. Esto nos devuelve un valor que cuando lo comparamos contra superficie total vemos que es exactamente el mismo, por lo que encontramos que hay una relación directa de precio total contra superficie total"
   ]
  },
  {
   "cell_type": "code",
   "execution_count": 22,
   "metadata": {},
   "outputs": [
    {
     "data": {
      "text/plain": [
       "<matplotlib.text.Text at 0x16190d98b70>"
      ]
     },
     "execution_count": 22,
     "metadata": {},
     "output_type": "execute_result"
    },
    {
     "data": {
      "image/png": "[encoded data removed]",
      "text/plain": [
       "<matplotlib.figure.Figure at 0x16190b6c6a0>"
      ]
     },
     "metadata": {},
     "output_type": "display_data"
    }
   ],
   "source": [
    "df_tmp = dataframe[['price_aprox_usd','price_usd_per_m2','surface_total_in_m2','surface_covered_in_m2']].copy()\n",
    "df_tmp['total_div_per_m2'] = df_tmp['price_aprox_usd'] / df_tmp['price_usd_per_m2']\n",
    "\n",
    "plt.figure(figsize=(7,5))\n",
    "sns.heatmap(df_tmp[['surface_total_in_m2','surface_covered_in_m2','total_div_per_m2']].corr(), annot=True, annot_kws={\"size\": 18})\n",
    "plt.title('Relación de Precio vs Superficie (total y cubierta)', fontsize=16)"
   ]
  },
  {
   "cell_type": "markdown",
   "metadata": {},
   "source": [
    "### Basado en precios en dolares\n",
    "Calculamos la superficie total basada en el precio total en dolares / el precio por m2"
   ]
  },
  {
   "cell_type": "code",
   "execution_count": 23,
   "metadata": {
    "collapsed": true
   },
   "outputs": [],
   "source": [
    "# SOLO CALCULAMOS SI NO SE PIDE ELIMINAR A LAS NAN Y 0. SINO LAS ELIMINAMOS COMPLETAMENTE.\n",
    "\n",
    "if ELIMINAR_SUPERFICIES_EN_CERO_Y_NULL == False:\n",
    "    # Creamos un flag que indica si la superficie fue calculada\n",
    "    dataframe['surface_was_nan'] = 0\n",
    "\n",
    "    # Columnas de Dolares que no sean null pero que la superficie sea null\n",
    "    df_tmp = dataframe.loc[\n",
    "        (~dataframe['price_aprox_usd'].isnull()) & \n",
    "        (~dataframe['price_usd_per_m2'].isnull()) &\n",
    "        ((dataframe[CAMPO_SUPERFICIE].isnull()) | (dataframe[CAMPO_SUPERFICIE] == 0)) # Que sea nulo o Cero\n",
    "    ].copy()\n",
    "\n",
    "    # Calculamos la superficie\n",
    "    df_tmp['calculated_surface'] = df_tmp['price_aprox_usd'] / df_tmp['price_usd_per_m2']\n",
    "    \n",
    "    \n",
    "    # Asigno la cuperficie calculada al dataframe original\n",
    "    dataframe.loc[\n",
    "        (~dataframe['price_aprox_usd'].isnull()) & \n",
    "        (~dataframe['price_usd_per_m2'].isnull()) &\n",
    "        (dataframe[CAMPO_SUPERFICIE].isnull()), [CAMPO_SUPERFICIE, 'surface_was_nan']] = [df_tmp['calculated_surface'], 1]\n",
    "\n",
    "else:\n",
    "    dataframe = dataframe.loc[(~dataframe[CAMPO_SUPERFICIE].isnull()) | (dataframe[CAMPO_SUPERFICIE] > 0)]"
   ]
  },
  {
   "cell_type": "markdown",
   "metadata": {},
   "source": [
    "### Obtención de Superficie desde Descripción\n",
    "\n",
    "Intentamos obtener superficies de la descripción"
   ]
  },
  {
   "cell_type": "code",
   "execution_count": 24,
   "metadata": {
    "collapsed": true
   },
   "outputs": [],
   "source": [
    "# Solo obtengo de la descripcion si no las voy a borrar\n",
    "if ELIMINAR_SUPERFICIES_EN_CERO_Y_NULL == False:\n",
    "\n",
    "    #Creo la mask para obtener los registros con superficie cubierta NaN o en 0\n",
    "    mask = (dataframe[CAMPO_SUPERFICIE].isnull()) | (dataframe[CAMPO_SUPERFICIE] == 0)\n",
    "\n",
    "    # Obtengo las superficies de la descripción\n",
    "    tmp = dataframe.loc[mask,'description'].str.lower().str.extract('(((\\d+)|(\\d+(,|\\.)\\d+))(\\s+|())mts|((\\d+)|(\\d+(,|\\.)\\d+))(\\s+|())m2)', expand=False)\n",
    "\n",
    "    #Establezco los valores al dataframe\n",
    "    dataframe.loc[mask,[CAMPO_SUPERFICIE]] = [1,tmp[0].str.lower().str.replace('m2','').str.replace('mts','').count()]"
   ]
  },
  {
   "cell_type": "markdown",
   "metadata": {},
   "source": [
    "### Missing Values de Superficie cubierta\n",
    "Desfaortunadamente, nos quedan aun unos registros de los cuales no podemos obtener la Superficie total. Decidímos eliminar estos registros de nuestro dataset."
   ]
  },
  {
   "cell_type": "code",
   "execution_count": 25,
   "metadata": {
    "collapsed": true
   },
   "outputs": [],
   "source": [
    "# Obtenemos el dataset con los datos que no tengan surface_covered_in_m2 en nulo\n",
    "dataframe = dataframe.loc[~dataframe[CAMPO_SUPERFICIE].isnull()]"
   ]
  },
  {
   "cell_type": "markdown",
   "metadata": {},
   "source": [
    "## Rooms\n",
    "Intentamos obtener la cantidad de ambientes, para los missing values, de la descripción, utilizando expresiones regulares.<br>\n",
    "\n",
    "Idem Expenses y Floor, pero le imputamos el valor 1 ya que no existen propiedades de 0 ambientes."
   ]
  },
  {
   "cell_type": "code",
   "execution_count": 26,
   "metadata": {
    "collapsed": true
   },
   "outputs": [],
   "source": [
    "# Obtengo los ambientes mediante la descripcion\n",
    "tmp = dataframe.loc[(dataframe['rooms'].isnull()),'description'].str.lower().str.extract(\"(\\d+)(\\s|())amb\", expand=False)\n",
    "\n",
    "# Asigno la cantidad de ambientes, al dataset original donde rooms es NaN\n",
    "dataframe.loc[dataframe['rooms'].isnull(),'rooms'] = tmp[0]\n",
    "\n",
    "# Asignamos 1 a las propiedades que en su descripción tengan la palabra 'monoambiente'\n",
    "dataframe.loc[(dataframe['rooms'].isnull()) & (dataframe['description'].str.lower().str.contains('monoambiente')),'rooms'] = 1"
   ]
  },
  {
   "cell_type": "markdown",
   "metadata": {},
   "source": [
    "### Imputamos los demas valores que no pudimos obtener de la descripción\n",
    "Aplicamos la misma técnica que en floor y expenses, imputando 1 a los valores Missing, y creando una variable flag que indica al modelo cuales fueron imputados a mano. (**rooms_was_nan**)"
   ]
  },
  {
   "cell_type": "code",
   "execution_count": 27,
   "metadata": {},
   "outputs": [
    {
     "name": "stdout",
     "output_type": "stream",
     "text": [
      "Se imputaron 40260 registros que tenian NaN en rooms\n"
     ]
    }
   ],
   "source": [
    "# Imputamos 1 y creamos un flag que indica la imputación\n",
    "impute_nans_with_flag('rooms', dataframe, 1)\n",
    "\n",
    "# Contamos la cantidad de rooms que fueron imputados\n",
    "print('Se imputaron',dataframe.loc[dataframe['rooms_was_nan'] == True, 'rooms_was_nan'].count(),'registros que tenian NaN en rooms')\n",
    "\n",
    "# Convertimos Rooms a int\n",
    "dataframe['rooms'] = dataframe['rooms'].astype(int)"
   ]
  },
  {
   "cell_type": "markdown",
   "metadata": {},
   "source": [
    "### Rooms con valor 0\n",
    "Tambien encontramos ambientes con el valor 0. Le imputamos 1 y le asignamos el flag como si hubiera sido NaN"
   ]
  },
  {
   "cell_type": "code",
   "execution_count": 28,
   "metadata": {
    "collapsed": true
   },
   "outputs": [],
   "source": [
    "# Lo marcamos como si hubiera sido NaN y le asignamos el valor 1\n",
    "dataframe.loc[dataframe['rooms'] == 0, ['rooms_was_nan','rooms']] = [1, 1]\n"
   ]
  },
  {
   "cell_type": "markdown",
   "metadata": {},
   "source": [
    "### Imputar Media de Habitaciones\n",
    "Imputamos a las habitaciones que eran nan, la media de acuerdo a la ubicacion y tipo de propiedad"
   ]
  },
  {
   "cell_type": "code",
   "execution_count": 29,
   "metadata": {
    "collapsed": true
   },
   "outputs": [],
   "source": [
    "if UTILIZAR_ROOMS:\n",
    "    # Obtenemos las ubicaciones\n",
    "    places = dataframe['place'].unique()\n",
    "\n",
    "    # por cada lugar\n",
    "    for lugar in places:\n",
    "    \n",
    "        # Obtenemos las propiedades del lugar\n",
    "        df_places = dataframe.loc[dataframe['place'] == lugar]\n",
    "        \n",
    "        # Obtenemos los tipos de propiedad de este lugar\n",
    "        tipos = df_places['property_type'].unique()\n",
    "        \n",
    "        # por cada tipo en los tipos de propiedad\n",
    "        for tipo in tipos:\n",
    "            \n",
    "            # Obtengo la media\n",
    "            media = df_places.loc[(df_places['property_type'] == tipo) & (df_places['rooms_was_nan'] == 0), 'rooms'].mean()\n",
    "    \n",
    "            if (~np.isnan(media)):\n",
    "                # Se la aplico a las propiedades que rooms era NaN\n",
    "                dataframe.loc[\n",
    "                    (dataframe['place'] == lugar)\n",
    "                    & (dataframe['property_type'] == tipo)\n",
    "                    & (dataframe['rooms_was_nan'] == 1)\n",
    "                , 'rooms'] = media"
   ]
  },
  {
   "cell_type": "markdown",
   "metadata": {},
   "source": [
    "### M2 per room\n",
    "Creamos una feature que identifica los m2 por ambiente, para luego deshacernos de la cantidad de ambientes. Esto nos va a dar un valor con un peso mas relativo a la superficie de cada propiedad. <br>\n",
    "Por último, asignamos -1 al flag que indicaba que era missing, ya que al tener 1 ambiente, le da mas peso, cuando en realidad debería darle menos. Con el flag en -1 logramos bajarle el peso a los que tienen un ambiente y era null"
   ]
  },
  {
   "cell_type": "code",
   "execution_count": 30,
   "metadata": {
    "collapsed": true
   },
   "outputs": [],
   "source": [
    "# Si queremos generar columna (Ver parametros arriba de todo)\n",
    "if UTILIZAR_ROOMS & CALCULAR_SUPERFICIE_POR_AMBIENTE:\n",
    "    # Calculamos m2 cubiertos / cantidad de ambientes\n",
    "    dataframe['m2_per_room'] = dataframe.apply(lambda row: row[CAMPO_SUPERFICIE] / row['rooms'], axis=1)\n",
    "\n",
    "    # Eliminamos la columna ROOMS ya que vamos a usar nuestra nueva columna\n",
    "    dataframe = dataframe.drop('rooms', axis=1)\n",
    "\n",
    "    # A los registros que tenian 1 en rooms_was_nan le asignamos -1 para bajarle el peso \n",
    "    dataframe.loc[dataframe['rooms_was_nan'] == 1, 'rooms_was_nan'] = -1\n",
    "    \n",
    "    # Y 1 a los que no eran nan para mentenerle el pero\n",
    "    dataframe.loc[dataframe['rooms_was_nan'] == 0, 'rooms_was_nan'] = 0"
   ]
  },
  {
   "cell_type": "markdown",
   "metadata": {},
   "source": [
    "### Correlación\n",
    "Si utilizamos el parametro de ambientes y calculamos superficie por ambiente, podemos observar que existe una correlación mas fuerte con esta nueva variable, que con la cantidad de ambientes."
   ]
  },
  {
   "cell_type": "code",
   "execution_count": 31,
   "metadata": {},
   "outputs": [
    {
     "data": {
      "image/png": "[encoded data removed]",
      "text/plain": [
       "<matplotlib.figure.Figure at 0x161956b4898>"
      ]
     },
     "metadata": {},
     "output_type": "display_data"
    }
   ],
   "source": [
    "if UTILIZAR_ROOMS & CALCULAR_SUPERFICIE_POR_AMBIENTE:\n",
    "    sns.heatmap(dataframe[['price_aprox_usd','m2_per_room']].corr(), annot=True)"
   ]
  },
  {
   "cell_type": "markdown",
   "metadata": {},
   "source": [
    "## Divisas de los precios y columnas de precios\n",
    "Decidimos utilizar los precios en **DOLARES** por lo que eliminamos las columnas de precios en otras monedas. <br>\n",
    "La columna Currency tambien va a ser eliminada ya que usamos todos los precios en DOLARES"
   ]
  },
  {
   "cell_type": "code",
   "execution_count": 32,
   "metadata": {},
   "outputs": [
    {
     "name": "stdout",
     "output_type": "stream",
     "text": [
      "La columna \" price_usd_per_m2 \" va a ser eliminada del DataFrame\n",
      "La columna \" price_aprox_local_currency \" va a ser eliminada del DataFrame\n",
      "La columna \" price \" va a ser eliminada del DataFrame\n",
      "La columna \" currency \" va a ser eliminada del DataFrame\n",
      "La columna \" price_per_m2 \" va a ser eliminada del DataFrame\n"
     ]
    }
   ],
   "source": [
    "# Eliminamos las columnas que no usamos para precios\n",
    "add_column_to_drop('price_usd_per_m2', dataframe)\n",
    "add_column_to_drop('price_aprox_local_currency', dataframe)\n",
    "add_column_to_drop('price', dataframe)\n",
    "add_column_to_drop('currency', dataframe)\n",
    "add_column_to_drop('price_per_m2', dataframe)\n"
   ]
  },
  {
   "cell_type": "markdown",
   "metadata": {},
   "source": [
    "## Eliminamos las columnas deseadas\n",
    "Una vez que tenemos la lista de columnas a eliminar, las eliminamos del dataframe"
   ]
  },
  {
   "cell_type": "code",
   "execution_count": 33,
   "metadata": {},
   "outputs": [
    {
     "name": "stdout",
     "output_type": "stream",
     "text": [
      "Las columnas ['lat-lon', 'country_name', 'state_name', 'place_name', 'price_usd_per_m2', 'price_aprox_local_currency', 'price', 'currency', 'price_per_m2'] fueron eliminadas del DataFrame\n"
     ]
    }
   ],
   "source": [
    "dataframe = dataframe.drop(cols_to_drop, axis=1)\n",
    "print('Las columnas',cols_to_drop,'fueron eliminadas del DataFrame')\n",
    "cols_to_drop = []"
   ]
  },
  {
   "cell_type": "markdown",
   "metadata": {},
   "source": [
    "## Outliers"
   ]
  },
  {
   "cell_type": "markdown",
   "metadata": {},
   "source": [
    "### Observamos los outliers de Precio y Superficie"
   ]
  },
  {
   "cell_type": "code",
   "execution_count": 34,
   "metadata": {},
   "outputs": [
    {
     "data": {
      "text/plain": [
       "<matplotlib.collections.PathCollection at 0x161944eea20>"
      ]
     },
     "execution_count": 34,
     "metadata": {},
     "output_type": "execute_result"
    },
    {
     "data": {
      "image/png": "[encoded data removed]",
      "text/plain": [
       "<matplotlib.figure.Figure at 0x16190e0b2b0>"
      ]
     },
     "metadata": {},
     "output_type": "display_data"
    }
   ],
   "source": [
    "# Graficamos un Scatter de precio contra superficie\n",
    "plt.scatter(x=dataframe[CAMPO_SUPERFICIE], y=dataframe['price_aprox_usd'])"
   ]
  },
  {
   "cell_type": "markdown",
   "metadata": {},
   "source": [
    "Observamos las características de estos dos valores"
   ]
  },
  {
   "cell_type": "code",
   "execution_count": 35,
   "metadata": {},
   "outputs": [
    {
     "data": {
      "text/html": [
       "<div>\n",
       "<style>\n",
       "    .dataframe thead tr:only-child th {\n",
       "        text-align: right;\n",
       "    }\n",
       "\n",
       "    .dataframe thead th {\n",
       "        text-align: left;\n",
       "    }\n",
       "\n",
       "    .dataframe tbody tr th {\n",
       "        vertical-align: top;\n",
       "    }\n",
       "</style>\n",
       "<table border=\"1\" class=\"dataframe\">\n",
       "  <thead>\n",
       "    <tr style=\"text-align: right;\">\n",
       "      <th></th>\n",
       "      <th>surface_covered_in_m2</th>\n",
       "      <th>price_aprox_usd</th>\n",
       "    </tr>\n",
       "  </thead>\n",
       "  <tbody>\n",
       "    <tr>\n",
       "      <th>count</th>\n",
       "      <td>101313.000</td>\n",
       "      <td>87660.000</td>\n",
       "    </tr>\n",
       "    <tr>\n",
       "      <th>mean</th>\n",
       "      <td>133.050</td>\n",
       "      <td>246807.202</td>\n",
       "    </tr>\n",
       "    <tr>\n",
       "      <th>std</th>\n",
       "      <td>724.351</td>\n",
       "      <td>330608.182</td>\n",
       "    </tr>\n",
       "    <tr>\n",
       "      <th>min</th>\n",
       "      <td>0.000</td>\n",
       "      <td>4666.620</td>\n",
       "    </tr>\n",
       "    <tr>\n",
       "      <th>25%</th>\n",
       "      <td>45.000</td>\n",
       "      <td>93000.000</td>\n",
       "    </tr>\n",
       "    <tr>\n",
       "      <th>50%</th>\n",
       "      <td>75.000</td>\n",
       "      <td>150000.000</td>\n",
       "    </tr>\n",
       "    <tr>\n",
       "      <th>75%</th>\n",
       "      <td>150.000</td>\n",
       "      <td>280000.000</td>\n",
       "    </tr>\n",
       "    <tr>\n",
       "      <th>max</th>\n",
       "      <td>187000.000</td>\n",
       "      <td>12000000.000</td>\n",
       "    </tr>\n",
       "  </tbody>\n",
       "</table>\n",
       "</div>"
      ],
      "text/plain": [
       "       surface_covered_in_m2  price_aprox_usd\n",
       "count             101313.000        87660.000\n",
       "mean                 133.050       246807.202\n",
       "std                  724.351       330608.182\n",
       "min                    0.000         4666.620\n",
       "25%                   45.000        93000.000\n",
       "50%                   75.000       150000.000\n",
       "75%                  150.000       280000.000\n",
       "max               187000.000     12000000.000"
      ]
     },
     "execution_count": 35,
     "metadata": {},
     "output_type": "execute_result"
    }
   ],
   "source": [
    "pd.set_option('display.float_format', lambda x: '%.3f' % x)\n",
    "dataframe[[CAMPO_SUPERFICIE,'price_aprox_usd']].describe()"
   ]
  },
  {
   "cell_type": "markdown",
   "metadata": {},
   "source": [
    "### Superficie\n",
    "Encontramos outliers en la superficie por m2. Para poder tratar correctamente estos, vamos a segmentarlos por ubicacion y tipo de propiedad y luego le aplicamos la media."
   ]
  },
  {
   "cell_type": "markdown",
   "metadata": {},
   "source": [
    "** Observamos la correlación entre precio y superficie cubierta antes de corregir los outliers **"
   ]
  },
  {
   "cell_type": "code",
   "execution_count": 36,
   "metadata": {},
   "outputs": [
    {
     "data": {
      "text/plain": [
       "(array([ 0.5,  1.5,  2.5]), <a list of 3 Text xticklabel objects>)"
      ]
     },
     "execution_count": 36,
     "metadata": {},
     "output_type": "execute_result"
    },
    {
     "data": {
      "image/png": "[encoded data removed]",
      "text/plain": [
       "<matplotlib.figure.Figure at 0x1618fe0ea90>"
      ]
     },
     "metadata": {},
     "output_type": "display_data"
    }
   ],
   "source": [
    "# Obtengo la correlación antes de eliminar outliers\n",
    "df_corr_prev_outliers = dataframe[['surface_total_in_m2','surface_covered_in_m2','price_aprox_usd']].corr()\n",
    "\n",
    "# Establezco el tamaño del plot\n",
    "plt.figure(figsize=(7,5))\n",
    "# Creo el heatmap\n",
    "sns.heatmap(df_corr_prev_outliers, annot=True,annot_kws={\"size\": 18})\n",
    "# Establezco el título\n",
    "plt.title('Relación de Precio vs superficie total ', fontsize=16)\n",
    "# Configuro los ejes.\n",
    "plt.yticks(rotation=0, fontsize=14)\n",
    "plt.xticks(fontsize=14)"
   ]
  },
  {
   "cell_type": "markdown",
   "metadata": {},
   "source": [
    "***Eliminamos los outliers de superficie***"
   ]
  },
  {
   "cell_type": "code",
   "execution_count": 37,
   "metadata": {
    "collapsed": true
   },
   "outputs": [],
   "source": [
    "# Obtengo la media de las propiedades que tienen precio (price_aprox_usd no es NaN)\n",
    "mean = dataframe.loc[~dataframe[CAMPO_SUPERFICIE].isnull(), CAMPO_SUPERFICIE].mean()\n",
    "        \n",
    "# Obtengo la desviacion estandar\n",
    "std_dev = dataframe.loc[~dataframe[CAMPO_SUPERFICIE].isnull(), CAMPO_SUPERFICIE].std()\n",
    "        \n",
    "if ELIMINAR_OUTLIER_SUPERFICIES:\n",
    "    # Si la media no es NaN\n",
    "    if (~np.isnan(mean)):\n",
    "        \n",
    "            \n",
    "        # Obtengo los outliers para el lugar y tipo de propiedad\n",
    "        df_outliers = dataframe.loc[(np.abs(dataframe[CAMPO_SUPERFICIE] - mean) > 3 * std_dev)] # Que esten por encima o debajo de 3 desviaciones std.\n",
    "            \n",
    "        # Los elimino del dataframe original\n",
    "        dataframe = dataframe.drop(df_outliers.index)"
   ]
  },
  {
   "cell_type": "markdown",
   "metadata": {},
   "source": [
    "Observamos nuevamente la la correlación entre precio y superficie y encontramos que la correlación entre estas mejoró."
   ]
  },
  {
   "cell_type": "code",
   "execution_count": 38,
   "metadata": {},
   "outputs": [
    {
     "data": {
      "text/plain": [
       "<matplotlib.axes._subplots.AxesSubplot at 0x1619532a9b0>"
      ]
     },
     "execution_count": 38,
     "metadata": {},
     "output_type": "execute_result"
    },
    {
     "data": {
      "image/png": "[encoded data removed]",
      "text/plain": [
       "<matplotlib.figure.Figure at 0x161950a9e10>"
      ]
     },
     "metadata": {},
     "output_type": "display_data"
    }
   ],
   "source": [
    "sns.heatmap(dataframe[[CAMPO_SUPERFICIE,'price_aprox_usd']].corr(), annot=True)"
   ]
  },
  {
   "cell_type": "markdown",
   "metadata": {},
   "source": [
    "## Precio"
   ]
  },
  {
   "cell_type": "markdown",
   "metadata": {},
   "source": [
    "Observamos outliers en los precios por lo que los eliminamos para que no formen parte del entrenamiento de nuestro modelo. ** Solo lo hago si el parametro ELIMINAR_OUTLIER_PRECIOS es True **"
   ]
  },
  {
   "cell_type": "code",
   "execution_count": 39,
   "metadata": {
    "collapsed": true
   },
   "outputs": [],
   "source": [
    "# Obtengo la media de las propiedades que tienen precio (price_aprox_usd no es NaN)\n",
    "mean = dataframe.loc[~dataframe['price_aprox_usd'].isnull(), 'price_aprox_usd'].mean()\n",
    "\n",
    "# Si la configuración lo especifíca, elimino los outliers de precio\n",
    "if ELIMINAR_OUTLIER_PRECIOS:    \n",
    "            \n",
    "    # Si la media no es NaN\n",
    "    if (~np.isnan(mean)):\n",
    "        # Obtengo la desviacion estandar\n",
    "        std_dev = dataframe.loc[~dataframe['price_aprox_usd'].isnull(), 'price_aprox_usd'].std()\n",
    "            \n",
    "        # Obtengo los outliers para el lugar y tipo de propiedad\n",
    "        df_outliers = dataframe.loc[(np.abs(dataframe['price_aprox_usd'] - mean) > 3 * std_dev)] # Que esten por encima o debajo de 3 desviaciones std.\n",
    "        \n",
    "        # Los elimino del dataframe original\n",
    "        dataframe = dataframe.drop(df_outliers.index)"
   ]
  },
  {
   "cell_type": "markdown",
   "metadata": {},
   "source": [
    "** Observamos la correlación entre precio y superficie cubierta despues de corregir los outliers **"
   ]
  },
  {
   "cell_type": "code",
   "execution_count": 40,
   "metadata": {},
   "outputs": [
    {
     "data": {
      "text/html": [
       "<div>\n",
       "<style>\n",
       "    .dataframe thead tr:only-child th {\n",
       "        text-align: right;\n",
       "    }\n",
       "\n",
       "    .dataframe thead th {\n",
       "        text-align: left;\n",
       "    }\n",
       "\n",
       "    .dataframe tbody tr th {\n",
       "        vertical-align: top;\n",
       "    }\n",
       "</style>\n",
       "<table border=\"1\" class=\"dataframe\">\n",
       "  <thead>\n",
       "    <tr style=\"text-align: right;\">\n",
       "      <th></th>\n",
       "      <th>surface_covered_in_m2</th>\n",
       "      <th>price_aprox_usd</th>\n",
       "    </tr>\n",
       "  </thead>\n",
       "  <tbody>\n",
       "    <tr>\n",
       "      <th>surface_covered_in_m2</th>\n",
       "      <td>1.000</td>\n",
       "      <td>0.623</td>\n",
       "    </tr>\n",
       "    <tr>\n",
       "      <th>price_aprox_usd</th>\n",
       "      <td>0.623</td>\n",
       "      <td>1.000</td>\n",
       "    </tr>\n",
       "  </tbody>\n",
       "</table>\n",
       "</div>"
      ],
      "text/plain": [
       "                       surface_covered_in_m2  price_aprox_usd\n",
       "surface_covered_in_m2                  1.000            0.623\n",
       "price_aprox_usd                        0.623            1.000"
      ]
     },
     "execution_count": 40,
     "metadata": {},
     "output_type": "execute_result"
    }
   ],
   "source": [
    "dataframe[[CAMPO_SUPERFICIE,'price_aprox_usd']].corr()"
   ]
  },
  {
   "cell_type": "markdown",
   "metadata": {},
   "source": [
    "## Columnas sin uso\n",
    "Eliminamos el resto de columnas que no tienen uso para nuestro modelo ni análisis en el dataframe."
   ]
  },
  {
   "cell_type": "code",
   "execution_count": 41,
   "metadata": {},
   "outputs": [
    {
     "name": "stdout",
     "output_type": "stream",
     "text": [
      "La columna \" operation \" va a ser eliminada del DataFrame\n",
      "La columna \" geonames_id \" va a ser eliminada del DataFrame\n",
      "La columna \" properati_url \" va a ser eliminada del DataFrame\n",
      "La columna \" title \" va a ser eliminada del DataFrame\n",
      "La columna \" image_thumbnail \" va a ser eliminada del DataFrame\n"
     ]
    }
   ],
   "source": [
    "# Agregamos las columnas a eliminar\n",
    "add_column_to_drop('operation',dataframe)\n",
    "add_column_to_drop('geonames_id',dataframe)\n",
    "add_column_to_drop('properati_url',dataframe)\n",
    "add_column_to_drop('title',dataframe)\n",
    "add_column_to_drop('image_thumbnail',dataframe)\n",
    "\n",
    "# Las eliminamos defnitivamente\n",
    "dataframe = dataframe.drop(cols_to_drop, axis=1)\n",
    "cols_to_drop = []"
   ]
  },
  {
   "cell_type": "markdown",
   "metadata": {},
   "source": [
    "## Propiedades por zona\n",
    "Decidimos solo utilizar las zonas que tienen mas de 50 propiedades publicadas."
   ]
  },
  {
   "cell_type": "code",
   "execution_count": 42,
   "metadata": {
    "collapsed": true
   },
   "outputs": [],
   "source": [
    "# Obtenemos solo las zonas que tienen mas de 50 propiedades publicadas\n",
    "# El uso de la columna property_type es indiferente. Solo necesito contar la cantidad de registros agrupados por lugar\n",
    "#df_zonas_count = dataframe.groupby(by='place').agg({'property_type':'count'})\n",
    "\n",
    "# Obtengo los nombres de las zonas\n",
    "#zonas_mayores_50 = df_zonas_count.loc[df_zonas_count['property_type'] > 100].index\n",
    "\n",
    "# Obtengo solo las zonas con mas de 50 propiedades\n",
    "#dataframe = dataframe.loc[dataframe['place'].isin(zonas_mayores_50)]"
   ]
  },
  {
   "cell_type": "markdown",
   "metadata": {},
   "source": [
    "## Feature Engineering\n",
    "Generación de Features"
   ]
  },
  {
   "cell_type": "markdown",
   "metadata": {},
   "source": [
    "### Antiguedad\n",
    "Intentamos obtener la antiguedad de la descripción y se la asignamos al campu antig. <br>\n",
    "Luego intentamos buscar si la propiedad es a estrenar y le asignamos 0 al campo antig<br>\n",
    "Por último, creamos un flag para indicarle al modelo las propiedades de las cuales no pudimos obtener la antiguedad y luego le establecemos 0 a esas también."
   ]
  },
  {
   "cell_type": "code",
   "execution_count": 43,
   "metadata": {
    "collapsed": true
   },
   "outputs": [],
   "source": [
    "# Obtengo los años de antiguedad mediante la descripcion\n",
    "tmp = dataframe['description'].str.lower().str.extract(\"(\\d+)(\\s+|())(a(ñ|ã±|n)o)\", expand=False)\n",
    "\n",
    "dataframe['antig'] = tmp[0]\n",
    "\n",
    "# Le asignamos 0 a las propiedades que son a estrenar y que no les hayamos estableciod una antiguedad\n",
    "dataframe.loc[(dataframe['antig'].isnull()) & (dataframe['description'].str.lower().str.contains('estrenar')), 'antig'] = 0\n",
    "\n",
    "# Creamos un flag para las propiedades de las cuales no tenemos su antiguedad\n",
    "dataframe['antig_missing'] = 0\n",
    "\n",
    "# Le asignamos el valor 1 a las propiedades cuyo valor de antig es NaN\n",
    "dataframe.loc[dataframe['antig'].isnull(),'antig_missing'] = 1\n",
    "\n",
    "# Le asignamos el valor 0 a las propiedades cuyo valor de antig es NaN\n",
    "dataframe.loc[dataframe['antig'].isnull(),'antig'] = 0\n",
    "\n",
    "# Por último convierto el tipo de dato a int\n",
    "dataframe['antig'] = dataframe['antig'].astype(int)"
   ]
  },
  {
   "cell_type": "markdown",
   "metadata": {},
   "source": [
    "### Eliminamos la columna description, lat y lon"
   ]
  },
  {
   "cell_type": "code",
   "execution_count": 44,
   "metadata": {},
   "outputs": [
    {
     "name": "stdout",
     "output_type": "stream",
     "text": [
      "La columna \" description \" va a ser eliminada del DataFrame\n",
      "La columna \" lat \" va a ser eliminada del DataFrame\n",
      "La columna \" lon \" va a ser eliminada del DataFrame\n"
     ]
    }
   ],
   "source": [
    "add_column_to_drop('description',dataframe)\n",
    "add_column_to_drop('lat', dataframe)\n",
    "add_column_to_drop('lon', dataframe)\n",
    "# Las eliminamos defnitivamente\n",
    "dataframe = dataframe.drop(cols_to_drop, axis=1)\n",
    "cols_to_drop = []"
   ]
  },
  {
   "cell_type": "markdown",
   "metadata": {},
   "source": [
    "## Estructura Final\n",
    "Observamos la estructura y valores finales del modelo previo al entrenamiento"
   ]
  },
  {
   "cell_type": "code",
   "execution_count": 45,
   "metadata": {},
   "outputs": [
    {
     "name": "stdout",
     "output_type": "stream",
     "text": [
      "<class 'pandas.core.frame.DataFrame'>\n",
      "Int64Index: 99433 entries, 0 to 121219\n",
      "Data columns (total 12 columns):\n",
      "property_type            99433 non-null object\n",
      "price_aprox_usd          85814 non-null float64\n",
      "surface_total_in_m2      72990 non-null float64\n",
      "surface_covered_in_m2    99433 non-null float64\n",
      "floor                    99433 non-null float64\n",
      "expenses                 99433 non-null int32\n",
      "floor_was_nan            99433 non-null int32\n",
      "place                    99433 non-null object\n",
      "rooms_was_nan            99433 non-null int32\n",
      "m2_per_room              99433 non-null float64\n",
      "antig                    99433 non-null int32\n",
      "antig_missing            99433 non-null int64\n",
      "dtypes: float64(5), int32(4), int64(1), object(2)\n",
      "memory usage: 8.3+ MB\n"
     ]
    }
   ],
   "source": [
    "dataframe.info()"
   ]
  },
  {
   "cell_type": "code",
   "execution_count": 46,
   "metadata": {},
   "outputs": [
    {
     "data": {
      "text/html": [
       "<div>\n",
       "<style>\n",
       "    .dataframe thead tr:only-child th {\n",
       "        text-align: right;\n",
       "    }\n",
       "\n",
       "    .dataframe thead th {\n",
       "        text-align: left;\n",
       "    }\n",
       "\n",
       "    .dataframe tbody tr th {\n",
       "        vertical-align: top;\n",
       "    }\n",
       "</style>\n",
       "<table border=\"1\" class=\"dataframe\">\n",
       "  <thead>\n",
       "    <tr style=\"text-align: right;\">\n",
       "      <th></th>\n",
       "      <th>NaNs #</th>\n",
       "      <th>NaNs %</th>\n",
       "      <th>Type</th>\n",
       "    </tr>\n",
       "  </thead>\n",
       "  <tbody>\n",
       "    <tr>\n",
       "      <th>surface_total_in_m2</th>\n",
       "      <td>26443</td>\n",
       "      <td>26.594</td>\n",
       "      <td>float64</td>\n",
       "    </tr>\n",
       "    <tr>\n",
       "      <th>price_aprox_usd</th>\n",
       "      <td>13619</td>\n",
       "      <td>13.697</td>\n",
       "      <td>float64</td>\n",
       "    </tr>\n",
       "    <tr>\n",
       "      <th>property_type</th>\n",
       "      <td>0</td>\n",
       "      <td>0.000</td>\n",
       "      <td>object</td>\n",
       "    </tr>\n",
       "    <tr>\n",
       "      <th>surface_covered_in_m2</th>\n",
       "      <td>0</td>\n",
       "      <td>0.000</td>\n",
       "      <td>float64</td>\n",
       "    </tr>\n",
       "    <tr>\n",
       "      <th>floor</th>\n",
       "      <td>0</td>\n",
       "      <td>0.000</td>\n",
       "      <td>float64</td>\n",
       "    </tr>\n",
       "    <tr>\n",
       "      <th>expenses</th>\n",
       "      <td>0</td>\n",
       "      <td>0.000</td>\n",
       "      <td>int32</td>\n",
       "    </tr>\n",
       "    <tr>\n",
       "      <th>floor_was_nan</th>\n",
       "      <td>0</td>\n",
       "      <td>0.000</td>\n",
       "      <td>int32</td>\n",
       "    </tr>\n",
       "    <tr>\n",
       "      <th>place</th>\n",
       "      <td>0</td>\n",
       "      <td>0.000</td>\n",
       "      <td>object</td>\n",
       "    </tr>\n",
       "    <tr>\n",
       "      <th>rooms_was_nan</th>\n",
       "      <td>0</td>\n",
       "      <td>0.000</td>\n",
       "      <td>int32</td>\n",
       "    </tr>\n",
       "    <tr>\n",
       "      <th>m2_per_room</th>\n",
       "      <td>0</td>\n",
       "      <td>0.000</td>\n",
       "      <td>float64</td>\n",
       "    </tr>\n",
       "    <tr>\n",
       "      <th>antig</th>\n",
       "      <td>0</td>\n",
       "      <td>0.000</td>\n",
       "      <td>int32</td>\n",
       "    </tr>\n",
       "    <tr>\n",
       "      <th>antig_missing</th>\n",
       "      <td>0</td>\n",
       "      <td>0.000</td>\n",
       "      <td>int64</td>\n",
       "    </tr>\n",
       "  </tbody>\n",
       "</table>\n",
       "</div>"
      ],
      "text/plain": [
       "                      NaNs #  NaNs %     Type\n",
       "surface_total_in_m2    26443  26.594  float64\n",
       "price_aprox_usd        13619  13.697  float64\n",
       "property_type              0   0.000   object\n",
       "surface_covered_in_m2      0   0.000  float64\n",
       "floor                      0   0.000  float64\n",
       "expenses                   0   0.000    int32\n",
       "floor_was_nan              0   0.000    int32\n",
       "place                      0   0.000   object\n",
       "rooms_was_nan              0   0.000    int32\n",
       "m2_per_room                0   0.000  float64\n",
       "antig                      0   0.000    int32\n",
       "antig_missing              0   0.000    int64"
      ]
     },
     "execution_count": 46,
     "metadata": {},
     "output_type": "execute_result"
    }
   ],
   "source": [
    "# Obtengo la Info\n",
    "df_info = inspect_dataframe(dataframe)\n",
    "# Muestro la info\n",
    "df_info"
   ]
  },
  {
   "cell_type": "markdown",
   "metadata": {},
   "source": [
    "## Correlación final\n",
    "Observamos nuevamente la correlación de features luego del tratamiento de los datos."
   ]
  },
  {
   "cell_type": "code",
   "execution_count": 47,
   "metadata": {},
   "outputs": [
    {
     "data": {
      "text/plain": [
       "(array([ 0.5,  1.5,  2.5,  3.5,  4.5,  5.5]),\n",
       " <a list of 6 Text xticklabel objects>)"
      ]
     },
     "execution_count": 47,
     "metadata": {},
     "output_type": "execute_result"
    },
    {
     "data": {
      "image/png": "[encoded data removed]",
      "text/plain": [
       "<matplotlib.figure.Figure at 0x16193b874e0>"
      ]
     },
     "metadata": {},
     "output_type": "display_data"
    }
   ],
   "source": [
    "plt.figure(figsize=(9,6))\n",
    "sns.heatmap(dataframe[['surface_total_in_m2','price_aprox_usd','surface_covered_in_m2','expenses', 'floor','antig']].corr(), annot=True, annot_kws={\"size\": 18})\n",
    "plt.title('Correlación de Features', fontsize=20)\n",
    "plt.yticks(fontsize=14, rotation=0)\n",
    "plt.xticks(fontsize=14)"
   ]
  },
  {
   "cell_type": "markdown",
   "metadata": {},
   "source": [
    "### Eliminamos la columna surface_covered_in_m2<br>\n",
    "La columna **surface_covered_in_m2** no tiene tanta relación con el precio como sí la tiene surface_total_in_m2"
   ]
  },
  {
   "cell_type": "code",
   "execution_count": 48,
   "metadata": {
    "collapsed": true
   },
   "outputs": [],
   "source": [
    "dataframe = dataframe.drop('surface_total_in_m2', axis=1)"
   ]
  },
  {
   "cell_type": "markdown",
   "metadata": {},
   "source": [
    "### Eliminación de columnas que no se utilizan\n",
    "Eliminamos las columnas que no van a ser utilizadas en nuestro modelos de acuerdo a la configuración"
   ]
  },
  {
   "cell_type": "code",
   "execution_count": 49,
   "metadata": {
    "collapsed": true
   },
   "outputs": [],
   "source": [
    "# Columna Floor\n",
    "if UTILIZAR_FLOOR == False:\n",
    "    dataframe = dataframe.drop(['floor','floor_was_nan'], axis=1)\n",
    "    \n",
    "# Columna Expenses\n",
    "if UTILIZAR_EXPENSES == False:\n",
    "    dataframe = dataframe.drop(['expenses'], axis=1)\n",
    "    \n",
    "# Columna Rooms\n",
    "if UTILIZAR_ROOMS == False:\n",
    "    dataframe = dataframe.drop(['rooms','rooms_was_nan'], axis=1)\n",
    "\n",
    "# Columna antiguedad\n",
    "if UTILIZAR_ANTIGUEDAD == False:\n",
    "    dataframe.drop(['antig_missing','antig'], axis=1, inplace=True)\n",
    "\n",
    "# Eliminar datos duplicados\n",
    "if ELIMINAR_DUPLICADOS:\n",
    "    dataframe = dataframe.drop_duplicates()"
   ]
  },
  {
   "cell_type": "code",
   "execution_count": 50,
   "metadata": {},
   "outputs": [
    {
     "data": {
      "text/html": [
       "<div>\n",
       "<style>\n",
       "    .dataframe thead tr:only-child th {\n",
       "        text-align: right;\n",
       "    }\n",
       "\n",
       "    .dataframe thead th {\n",
       "        text-align: left;\n",
       "    }\n",
       "\n",
       "    .dataframe tbody tr th {\n",
       "        vertical-align: top;\n",
       "    }\n",
       "</style>\n",
       "<table border=\"1\" class=\"dataframe\">\n",
       "  <thead>\n",
       "    <tr style=\"text-align: right;\">\n",
       "      <th></th>\n",
       "      <th>property_type</th>\n",
       "      <th>price_aprox_usd</th>\n",
       "      <th>surface_covered_in_m2</th>\n",
       "      <th>floor</th>\n",
       "      <th>expenses</th>\n",
       "      <th>floor_was_nan</th>\n",
       "      <th>place</th>\n",
       "      <th>rooms_was_nan</th>\n",
       "      <th>m2_per_room</th>\n",
       "      <th>antig</th>\n",
       "      <th>antig_missing</th>\n",
       "    </tr>\n",
       "  </thead>\n",
       "  <tbody>\n",
       "    <tr>\n",
       "      <th>0</th>\n",
       "      <td>PH</td>\n",
       "      <td>62000.000</td>\n",
       "      <td>40.000</td>\n",
       "      <td>1.000</td>\n",
       "      <td>0</td>\n",
       "      <td>1</td>\n",
       "      <td>Argentina|Capital Federal|Mataderos|</td>\n",
       "      <td>0</td>\n",
       "      <td>20.000</td>\n",
       "      <td>0</td>\n",
       "      <td>1</td>\n",
       "    </tr>\n",
       "    <tr>\n",
       "      <th>2</th>\n",
       "      <td>apartment</td>\n",
       "      <td>72000.000</td>\n",
       "      <td>55.000</td>\n",
       "      <td>1.000</td>\n",
       "      <td>0</td>\n",
       "      <td>1</td>\n",
       "      <td>Argentina|Capital Federal|Mataderos|</td>\n",
       "      <td>0</td>\n",
       "      <td>27.500</td>\n",
       "      <td>0</td>\n",
       "      <td>1</td>\n",
       "    </tr>\n",
       "    <tr>\n",
       "      <th>4</th>\n",
       "      <td>apartment</td>\n",
       "      <td>64000.000</td>\n",
       "      <td>35.000</td>\n",
       "      <td>1.000</td>\n",
       "      <td>0</td>\n",
       "      <td>1</td>\n",
       "      <td>Argentina|Buenos Aires Costa Atlántica|Mar del...</td>\n",
       "      <td>-1</td>\n",
       "      <td>14.530</td>\n",
       "      <td>0</td>\n",
       "      <td>1</td>\n",
       "    </tr>\n",
       "    <tr>\n",
       "      <th>6</th>\n",
       "      <td>PH</td>\n",
       "      <td>130000.000</td>\n",
       "      <td>78.000</td>\n",
       "      <td>1.000</td>\n",
       "      <td>0</td>\n",
       "      <td>1</td>\n",
       "      <td>Argentina|Bs.As. G.B.A. Zona Norte|Vicente Lóp...</td>\n",
       "      <td>-1</td>\n",
       "      <td>23.739</td>\n",
       "      <td>0</td>\n",
       "      <td>1</td>\n",
       "    </tr>\n",
       "    <tr>\n",
       "      <th>7</th>\n",
       "      <td>apartment</td>\n",
       "      <td>138000.000</td>\n",
       "      <td>40.000</td>\n",
       "      <td>1.000</td>\n",
       "      <td>0</td>\n",
       "      <td>1</td>\n",
       "      <td>Argentina|Capital Federal|Belgrano|</td>\n",
       "      <td>0</td>\n",
       "      <td>40.000</td>\n",
       "      <td>0</td>\n",
       "      <td>0</td>\n",
       "    </tr>\n",
       "    <tr>\n",
       "      <th>8</th>\n",
       "      <td>apartment</td>\n",
       "      <td>195000.000</td>\n",
       "      <td>60.000</td>\n",
       "      <td>1.000</td>\n",
       "      <td>0</td>\n",
       "      <td>1</td>\n",
       "      <td>Argentina|Capital Federal|Belgrano|</td>\n",
       "      <td>-1</td>\n",
       "      <td>21.894</td>\n",
       "      <td>0</td>\n",
       "      <td>0</td>\n",
       "    </tr>\n",
       "    <tr>\n",
       "      <th>12</th>\n",
       "      <td>apartment</td>\n",
       "      <td>115000.000</td>\n",
       "      <td>36.000</td>\n",
       "      <td>1.000</td>\n",
       "      <td>0</td>\n",
       "      <td>1</td>\n",
       "      <td>Argentina|Bs.As. G.B.A. Zona Norte|San Isidro|...</td>\n",
       "      <td>0</td>\n",
       "      <td>18.000</td>\n",
       "      <td>0</td>\n",
       "      <td>1</td>\n",
       "    </tr>\n",
       "    <tr>\n",
       "      <th>13</th>\n",
       "      <td>apartment</td>\n",
       "      <td>111700.000</td>\n",
       "      <td>30.000</td>\n",
       "      <td>1.000</td>\n",
       "      <td>0</td>\n",
       "      <td>1</td>\n",
       "      <td>Argentina|Capital Federal|Palermo|Palermo Soho</td>\n",
       "      <td>0</td>\n",
       "      <td>30.000</td>\n",
       "      <td>0</td>\n",
       "      <td>1</td>\n",
       "    </tr>\n",
       "    <tr>\n",
       "      <th>14</th>\n",
       "      <td>apartment</td>\n",
       "      <td>147900.000</td>\n",
       "      <td>31.000</td>\n",
       "      <td>1.000</td>\n",
       "      <td>0</td>\n",
       "      <td>1</td>\n",
       "      <td>Argentina|Capital Federal|Palermo|Palermo Soho</td>\n",
       "      <td>0</td>\n",
       "      <td>31.000</td>\n",
       "      <td>0</td>\n",
       "      <td>1</td>\n",
       "    </tr>\n",
       "    <tr>\n",
       "      <th>16</th>\n",
       "      <td>PH</td>\n",
       "      <td>239000.000</td>\n",
       "      <td>98.000</td>\n",
       "      <td>1.000</td>\n",
       "      <td>0</td>\n",
       "      <td>1</td>\n",
       "      <td>Argentina|Capital Federal|Mataderos|</td>\n",
       "      <td>0</td>\n",
       "      <td>24.500</td>\n",
       "      <td>0</td>\n",
       "      <td>1</td>\n",
       "    </tr>\n",
       "    <tr>\n",
       "      <th>17</th>\n",
       "      <td>apartment</td>\n",
       "      <td>315000.000</td>\n",
       "      <td>78.000</td>\n",
       "      <td>1.000</td>\n",
       "      <td>0</td>\n",
       "      <td>1</td>\n",
       "      <td>Argentina|Bs.As. G.B.A. Zona Norte|Tigre|Nordelta</td>\n",
       "      <td>0</td>\n",
       "      <td>26.000</td>\n",
       "      <td>0</td>\n",
       "      <td>1</td>\n",
       "    </tr>\n",
       "    <tr>\n",
       "      <th>18</th>\n",
       "      <td>house</td>\n",
       "      <td>570000.000</td>\n",
       "      <td>270.000</td>\n",
       "      <td>1.000</td>\n",
       "      <td>0</td>\n",
       "      <td>1</td>\n",
       "      <td>Argentina|Bs.As. G.B.A. Zona Norte|Tigre|</td>\n",
       "      <td>-1</td>\n",
       "      <td>4.202</td>\n",
       "      <td>0</td>\n",
       "      <td>1</td>\n",
       "    </tr>\n",
       "    <tr>\n",
       "      <th>19</th>\n",
       "      <td>apartment</td>\n",
       "      <td>350000.000</td>\n",
       "      <td>96.000</td>\n",
       "      <td>1.000</td>\n",
       "      <td>0</td>\n",
       "      <td>1</td>\n",
       "      <td>Argentina|Capital Federal|Palermo|</td>\n",
       "      <td>0</td>\n",
       "      <td>32.000</td>\n",
       "      <td>0</td>\n",
       "      <td>1</td>\n",
       "    </tr>\n",
       "    <tr>\n",
       "      <th>20</th>\n",
       "      <td>house</td>\n",
       "      <td>nan</td>\n",
       "      <td>148.000</td>\n",
       "      <td>1.000</td>\n",
       "      <td>0</td>\n",
       "      <td>1</td>\n",
       "      <td>Argentina|Córdoba|Villa Giardino|</td>\n",
       "      <td>-1</td>\n",
       "      <td>49.333</td>\n",
       "      <td>0</td>\n",
       "      <td>1</td>\n",
       "    </tr>\n",
       "    <tr>\n",
       "      <th>21</th>\n",
       "      <td>apartment</td>\n",
       "      <td>270500.000</td>\n",
       "      <td>73.000</td>\n",
       "      <td>1.000</td>\n",
       "      <td>0</td>\n",
       "      <td>1</td>\n",
       "      <td>Argentina|Capital Federal|Palermo|</td>\n",
       "      <td>0</td>\n",
       "      <td>18.250</td>\n",
       "      <td>0</td>\n",
       "      <td>1</td>\n",
       "    </tr>\n",
       "    <tr>\n",
       "      <th>22</th>\n",
       "      <td>house</td>\n",
       "      <td>290000.000</td>\n",
       "      <td>200.000</td>\n",
       "      <td>1.000</td>\n",
       "      <td>0</td>\n",
       "      <td>1</td>\n",
       "      <td>Argentina|Bs.As. G.B.A. Zona Oeste|General Rod...</td>\n",
       "      <td>-1</td>\n",
       "      <td>45.033</td>\n",
       "      <td>0</td>\n",
       "      <td>1</td>\n",
       "    </tr>\n",
       "    <tr>\n",
       "      <th>23</th>\n",
       "      <td>apartment</td>\n",
       "      <td>82000.000</td>\n",
       "      <td>42.000</td>\n",
       "      <td>1.000</td>\n",
       "      <td>0</td>\n",
       "      <td>1</td>\n",
       "      <td>Argentina|Bs.As. G.B.A. Zona Norte|Pilar|Pilar</td>\n",
       "      <td>0</td>\n",
       "      <td>21.000</td>\n",
       "      <td>0</td>\n",
       "      <td>1</td>\n",
       "    </tr>\n",
       "    <tr>\n",
       "      <th>24</th>\n",
       "      <td>apartment</td>\n",
       "      <td>355000.000</td>\n",
       "      <td>160.000</td>\n",
       "      <td>1.000</td>\n",
       "      <td>0</td>\n",
       "      <td>1</td>\n",
       "      <td>Argentina|Bs.As. G.B.A. Zona Oeste|Morón|Castelar</td>\n",
       "      <td>0</td>\n",
       "      <td>40.000</td>\n",
       "      <td>0</td>\n",
       "      <td>1</td>\n",
       "    </tr>\n",
       "    <tr>\n",
       "      <th>25</th>\n",
       "      <td>apartment</td>\n",
       "      <td>358550.000</td>\n",
       "      <td>160.000</td>\n",
       "      <td>1.000</td>\n",
       "      <td>0</td>\n",
       "      <td>1</td>\n",
       "      <td>Argentina|Bs.As. G.B.A. Zona Oeste|Morón|Castelar</td>\n",
       "      <td>0</td>\n",
       "      <td>40.000</td>\n",
       "      <td>0</td>\n",
       "      <td>1</td>\n",
       "    </tr>\n",
       "    <tr>\n",
       "      <th>26</th>\n",
       "      <td>house</td>\n",
       "      <td>265000.000</td>\n",
       "      <td>190.000</td>\n",
       "      <td>1.000</td>\n",
       "      <td>0</td>\n",
       "      <td>1</td>\n",
       "      <td>Argentina|Bs.As. G.B.A. Zona Norte|Tigre|Barri...</td>\n",
       "      <td>-1</td>\n",
       "      <td>31.667</td>\n",
       "      <td>0</td>\n",
       "      <td>1</td>\n",
       "    </tr>\n",
       "    <tr>\n",
       "      <th>27</th>\n",
       "      <td>house</td>\n",
       "      <td>650000.000</td>\n",
       "      <td>425.000</td>\n",
       "      <td>1.000</td>\n",
       "      <td>0</td>\n",
       "      <td>1</td>\n",
       "      <td>Argentina|Bs.As. G.B.A. Zona Norte|Pilar|Estan...</td>\n",
       "      <td>-1</td>\n",
       "      <td>85.000</td>\n",
       "      <td>0</td>\n",
       "      <td>1</td>\n",
       "    </tr>\n",
       "    <tr>\n",
       "      <th>28</th>\n",
       "      <td>apartment</td>\n",
       "      <td>362150.000</td>\n",
       "      <td>160.000</td>\n",
       "      <td>1.000</td>\n",
       "      <td>0</td>\n",
       "      <td>1</td>\n",
       "      <td>Argentina|Bs.As. G.B.A. Zona Oeste|Morón|Castelar</td>\n",
       "      <td>0</td>\n",
       "      <td>40.000</td>\n",
       "      <td>0</td>\n",
       "      <td>1</td>\n",
       "    </tr>\n",
       "    <tr>\n",
       "      <th>29</th>\n",
       "      <td>apartment</td>\n",
       "      <td>75000.000</td>\n",
       "      <td>43.000</td>\n",
       "      <td>1.000</td>\n",
       "      <td>0</td>\n",
       "      <td>1</td>\n",
       "      <td>Argentina|Capital Federal|Flores|</td>\n",
       "      <td>0</td>\n",
       "      <td>21.500</td>\n",
       "      <td>0</td>\n",
       "      <td>1</td>\n",
       "    </tr>\n",
       "    <tr>\n",
       "      <th>30</th>\n",
       "      <td>house</td>\n",
       "      <td>178000.000</td>\n",
       "      <td>150.000</td>\n",
       "      <td>1.000</td>\n",
       "      <td>0</td>\n",
       "      <td>1</td>\n",
       "      <td>Argentina|Bs.As. G.B.A. Zona Norte|Pilar|</td>\n",
       "      <td>-1</td>\n",
       "      <td>35.261</td>\n",
       "      <td>0</td>\n",
       "      <td>1</td>\n",
       "    </tr>\n",
       "    <tr>\n",
       "      <th>31</th>\n",
       "      <td>house</td>\n",
       "      <td>130000.000</td>\n",
       "      <td>103.000</td>\n",
       "      <td>1.000</td>\n",
       "      <td>0</td>\n",
       "      <td>1</td>\n",
       "      <td>Argentina|Bs.As. G.B.A. Zona Norte|Vicente Lóp...</td>\n",
       "      <td>0</td>\n",
       "      <td>34.333</td>\n",
       "      <td>0</td>\n",
       "      <td>1</td>\n",
       "    </tr>\n",
       "    <tr>\n",
       "      <th>32</th>\n",
       "      <td>apartment</td>\n",
       "      <td>30846.020</td>\n",
       "      <td>50.000</td>\n",
       "      <td>1.000</td>\n",
       "      <td>0</td>\n",
       "      <td>1</td>\n",
       "      <td>Argentina|Córdoba|Córdoba|</td>\n",
       "      <td>0</td>\n",
       "      <td>16.667</td>\n",
       "      <td>0</td>\n",
       "      <td>1</td>\n",
       "    </tr>\n",
       "    <tr>\n",
       "      <th>33</th>\n",
       "      <td>apartment</td>\n",
       "      <td>325000.000</td>\n",
       "      <td>83.000</td>\n",
       "      <td>1.000</td>\n",
       "      <td>0</td>\n",
       "      <td>1</td>\n",
       "      <td>Argentina|Bs.As. G.B.A. Zona Norte|Tigre|Nordelta</td>\n",
       "      <td>0</td>\n",
       "      <td>27.667</td>\n",
       "      <td>0</td>\n",
       "      <td>1</td>\n",
       "    </tr>\n",
       "    <tr>\n",
       "      <th>34</th>\n",
       "      <td>PH</td>\n",
       "      <td>169000.000</td>\n",
       "      <td>160.000</td>\n",
       "      <td>1.000</td>\n",
       "      <td>0</td>\n",
       "      <td>1</td>\n",
       "      <td>Argentina|Bs.As. G.B.A. Zona Norte|Vicente Lóp...</td>\n",
       "      <td>0</td>\n",
       "      <td>26.667</td>\n",
       "      <td>6</td>\n",
       "      <td>0</td>\n",
       "    </tr>\n",
       "    <tr>\n",
       "      <th>35</th>\n",
       "      <td>apartment</td>\n",
       "      <td>145000.000</td>\n",
       "      <td>77.000</td>\n",
       "      <td>1.000</td>\n",
       "      <td>0</td>\n",
       "      <td>1</td>\n",
       "      <td>Argentina|Capital Federal|Boedo|</td>\n",
       "      <td>0</td>\n",
       "      <td>19.250</td>\n",
       "      <td>0</td>\n",
       "      <td>1</td>\n",
       "    </tr>\n",
       "    <tr>\n",
       "      <th>36</th>\n",
       "      <td>house</td>\n",
       "      <td>400000.000</td>\n",
       "      <td>400.000</td>\n",
       "      <td>1.000</td>\n",
       "      <td>0</td>\n",
       "      <td>1</td>\n",
       "      <td>Argentina|Bs.As. G.B.A. Zona Norte|Pilar|Pilar</td>\n",
       "      <td>-1</td>\n",
       "      <td>88.361</td>\n",
       "      <td>0</td>\n",
       "      <td>1</td>\n",
       "    </tr>\n",
       "    <tr>\n",
       "      <th>...</th>\n",
       "      <td>...</td>\n",
       "      <td>...</td>\n",
       "      <td>...</td>\n",
       "      <td>...</td>\n",
       "      <td>...</td>\n",
       "      <td>...</td>\n",
       "      <td>...</td>\n",
       "      <td>...</td>\n",
       "      <td>...</td>\n",
       "      <td>...</td>\n",
       "      <td>...</td>\n",
       "    </tr>\n",
       "    <tr>\n",
       "      <th>121132</th>\n",
       "      <td>apartment</td>\n",
       "      <td>138000.000</td>\n",
       "      <td>40.000</td>\n",
       "      <td>1.000</td>\n",
       "      <td>0</td>\n",
       "      <td>1</td>\n",
       "      <td>Argentina|Bs.As. G.B.A. Zona Norte|Vicente Lóp...</td>\n",
       "      <td>-1</td>\n",
       "      <td>14.359</td>\n",
       "      <td>0</td>\n",
       "      <td>1</td>\n",
       "    </tr>\n",
       "    <tr>\n",
       "      <th>121135</th>\n",
       "      <td>apartment</td>\n",
       "      <td>95000.000</td>\n",
       "      <td>19.000</td>\n",
       "      <td>1.000</td>\n",
       "      <td>0</td>\n",
       "      <td>1</td>\n",
       "      <td>Argentina|Capital Federal|Palermo|Palermo Holl...</td>\n",
       "      <td>0</td>\n",
       "      <td>19.000</td>\n",
       "      <td>0</td>\n",
       "      <td>1</td>\n",
       "    </tr>\n",
       "    <tr>\n",
       "      <th>121136</th>\n",
       "      <td>apartment</td>\n",
       "      <td>102000.000</td>\n",
       "      <td>33.000</td>\n",
       "      <td>1.000</td>\n",
       "      <td>0</td>\n",
       "      <td>1</td>\n",
       "      <td>Argentina|Capital Federal|Palermo|Palermo Holl...</td>\n",
       "      <td>0</td>\n",
       "      <td>33.000</td>\n",
       "      <td>0</td>\n",
       "      <td>1</td>\n",
       "    </tr>\n",
       "    <tr>\n",
       "      <th>121137</th>\n",
       "      <td>apartment</td>\n",
       "      <td>115000.000</td>\n",
       "      <td>33.000</td>\n",
       "      <td>1.000</td>\n",
       "      <td>0</td>\n",
       "      <td>1</td>\n",
       "      <td>Argentina|Capital Federal|Palermo|Palermo Holl...</td>\n",
       "      <td>0</td>\n",
       "      <td>33.000</td>\n",
       "      <td>0</td>\n",
       "      <td>1</td>\n",
       "    </tr>\n",
       "    <tr>\n",
       "      <th>121138</th>\n",
       "      <td>apartment</td>\n",
       "      <td>208000.000</td>\n",
       "      <td>60.000</td>\n",
       "      <td>1.000</td>\n",
       "      <td>1</td>\n",
       "      <td>1</td>\n",
       "      <td>Argentina|Capital Federal|Saavedra|</td>\n",
       "      <td>0</td>\n",
       "      <td>30.000</td>\n",
       "      <td>0</td>\n",
       "      <td>0</td>\n",
       "    </tr>\n",
       "    <tr>\n",
       "      <th>121139</th>\n",
       "      <td>apartment</td>\n",
       "      <td>80523.000</td>\n",
       "      <td>37.000</td>\n",
       "      <td>1.000</td>\n",
       "      <td>0</td>\n",
       "      <td>1</td>\n",
       "      <td>Argentina|Buenos Aires Costa Atlántica|Mar del...</td>\n",
       "      <td>0</td>\n",
       "      <td>12.333</td>\n",
       "      <td>0</td>\n",
       "      <td>1</td>\n",
       "    </tr>\n",
       "    <tr>\n",
       "      <th>121140</th>\n",
       "      <td>house</td>\n",
       "      <td>375000.000</td>\n",
       "      <td>213.000</td>\n",
       "      <td>1.000</td>\n",
       "      <td>1</td>\n",
       "      <td>1</td>\n",
       "      <td>Argentina|Bs.As. G.B.A. Zona Sur|Berazategui|A...</td>\n",
       "      <td>-1</td>\n",
       "      <td>213.000</td>\n",
       "      <td>0</td>\n",
       "      <td>1</td>\n",
       "    </tr>\n",
       "    <tr>\n",
       "      <th>121141</th>\n",
       "      <td>house</td>\n",
       "      <td>550000.000</td>\n",
       "      <td>280.000</td>\n",
       "      <td>1.000</td>\n",
       "      <td>1</td>\n",
       "      <td>1</td>\n",
       "      <td>Argentina|Bs.As. G.B.A. Zona Norte|</td>\n",
       "      <td>-1</td>\n",
       "      <td>74.930</td>\n",
       "      <td>0</td>\n",
       "      <td>0</td>\n",
       "    </tr>\n",
       "    <tr>\n",
       "      <th>121143</th>\n",
       "      <td>apartment</td>\n",
       "      <td>305000.000</td>\n",
       "      <td>79.000</td>\n",
       "      <td>1.000</td>\n",
       "      <td>0</td>\n",
       "      <td>1</td>\n",
       "      <td>Argentina|Bs.As. G.B.A. Zona Norte|San Fernando|</td>\n",
       "      <td>-1</td>\n",
       "      <td>33.725</td>\n",
       "      <td>0</td>\n",
       "      <td>1</td>\n",
       "    </tr>\n",
       "    <tr>\n",
       "      <th>121145</th>\n",
       "      <td>house</td>\n",
       "      <td>290000.000</td>\n",
       "      <td>170.000</td>\n",
       "      <td>1.000</td>\n",
       "      <td>0</td>\n",
       "      <td>1</td>\n",
       "      <td>Argentina|Bs.As. G.B.A. Zona Sur|Lomas de Zamo...</td>\n",
       "      <td>-1</td>\n",
       "      <td>42.500</td>\n",
       "      <td>0</td>\n",
       "      <td>1</td>\n",
       "    </tr>\n",
       "    <tr>\n",
       "      <th>121146</th>\n",
       "      <td>apartment</td>\n",
       "      <td>350000.000</td>\n",
       "      <td>87.000</td>\n",
       "      <td>1.000</td>\n",
       "      <td>1</td>\n",
       "      <td>1</td>\n",
       "      <td>Argentina|Capital Federal|Palermo|</td>\n",
       "      <td>-1</td>\n",
       "      <td>32.162</td>\n",
       "      <td>0</td>\n",
       "      <td>1</td>\n",
       "    </tr>\n",
       "    <tr>\n",
       "      <th>121147</th>\n",
       "      <td>house</td>\n",
       "      <td>430000.000</td>\n",
       "      <td>320.000</td>\n",
       "      <td>1.000</td>\n",
       "      <td>0</td>\n",
       "      <td>1</td>\n",
       "      <td>Argentina|Capital Federal|Belgrano|</td>\n",
       "      <td>-1</td>\n",
       "      <td>62.262</td>\n",
       "      <td>0</td>\n",
       "      <td>1</td>\n",
       "    </tr>\n",
       "    <tr>\n",
       "      <th>121148</th>\n",
       "      <td>PH</td>\n",
       "      <td>229000.000</td>\n",
       "      <td>185.000</td>\n",
       "      <td>1.000</td>\n",
       "      <td>0</td>\n",
       "      <td>1</td>\n",
       "      <td>Argentina|Capital Federal|Flores|</td>\n",
       "      <td>-1</td>\n",
       "      <td>53.755</td>\n",
       "      <td>0</td>\n",
       "      <td>1</td>\n",
       "    </tr>\n",
       "    <tr>\n",
       "      <th>121149</th>\n",
       "      <td>house</td>\n",
       "      <td>485000.000</td>\n",
       "      <td>195.000</td>\n",
       "      <td>1.000</td>\n",
       "      <td>0</td>\n",
       "      <td>1</td>\n",
       "      <td>Argentina|Capital Federal|Caballito|</td>\n",
       "      <td>-1</td>\n",
       "      <td>43.875</td>\n",
       "      <td>0</td>\n",
       "      <td>1</td>\n",
       "    </tr>\n",
       "    <tr>\n",
       "      <th>121150</th>\n",
       "      <td>apartment</td>\n",
       "      <td>95000.000</td>\n",
       "      <td>52.000</td>\n",
       "      <td>1.000</td>\n",
       "      <td>1</td>\n",
       "      <td>1</td>\n",
       "      <td>Argentina|Capital Federal|Paternal|</td>\n",
       "      <td>-1</td>\n",
       "      <td>24.571</td>\n",
       "      <td>0</td>\n",
       "      <td>1</td>\n",
       "    </tr>\n",
       "    <tr>\n",
       "      <th>121151</th>\n",
       "      <td>apartment</td>\n",
       "      <td>120000.000</td>\n",
       "      <td>72.000</td>\n",
       "      <td>1.000</td>\n",
       "      <td>1</td>\n",
       "      <td>1</td>\n",
       "      <td>Argentina|Capital Federal|Flores|</td>\n",
       "      <td>-1</td>\n",
       "      <td>28.212</td>\n",
       "      <td>0</td>\n",
       "      <td>1</td>\n",
       "    </tr>\n",
       "    <tr>\n",
       "      <th>121153</th>\n",
       "      <td>apartment</td>\n",
       "      <td>165000.000</td>\n",
       "      <td>65.000</td>\n",
       "      <td>1.000</td>\n",
       "      <td>0</td>\n",
       "      <td>1</td>\n",
       "      <td>Argentina|Capital Federal|Barrio Norte|</td>\n",
       "      <td>-1</td>\n",
       "      <td>21.516</td>\n",
       "      <td>0</td>\n",
       "      <td>1</td>\n",
       "    </tr>\n",
       "    <tr>\n",
       "      <th>121154</th>\n",
       "      <td>house</td>\n",
       "      <td>295000.000</td>\n",
       "      <td>205.000</td>\n",
       "      <td>1.000</td>\n",
       "      <td>0</td>\n",
       "      <td>1</td>\n",
       "      <td>Argentina|Bs.As. G.B.A. Zona Sur|La Plata|La P...</td>\n",
       "      <td>-1</td>\n",
       "      <td>48.622</td>\n",
       "      <td>0</td>\n",
       "      <td>1</td>\n",
       "    </tr>\n",
       "    <tr>\n",
       "      <th>121155</th>\n",
       "      <td>house</td>\n",
       "      <td>170000.000</td>\n",
       "      <td>130.000</td>\n",
       "      <td>1.000</td>\n",
       "      <td>0</td>\n",
       "      <td>1</td>\n",
       "      <td>Argentina|Bs.As. G.B.A. Zona Norte|Pilar|</td>\n",
       "      <td>-1</td>\n",
       "      <td>30.560</td>\n",
       "      <td>0</td>\n",
       "      <td>1</td>\n",
       "    </tr>\n",
       "    <tr>\n",
       "      <th>121157</th>\n",
       "      <td>apartment</td>\n",
       "      <td>128000.000</td>\n",
       "      <td>35.000</td>\n",
       "      <td>1.000</td>\n",
       "      <td>0</td>\n",
       "      <td>1</td>\n",
       "      <td>Argentina|Capital Federal|Belgrano|</td>\n",
       "      <td>-1</td>\n",
       "      <td>12.772</td>\n",
       "      <td>0</td>\n",
       "      <td>1</td>\n",
       "    </tr>\n",
       "    <tr>\n",
       "      <th>121207</th>\n",
       "      <td>house</td>\n",
       "      <td>nan</td>\n",
       "      <td>178.000</td>\n",
       "      <td>1.000</td>\n",
       "      <td>1</td>\n",
       "      <td>1</td>\n",
       "      <td>Argentina|Bs.As. G.B.A. Zona Norte|Escobar|</td>\n",
       "      <td>-1</td>\n",
       "      <td>41.213</td>\n",
       "      <td>0</td>\n",
       "      <td>1</td>\n",
       "    </tr>\n",
       "    <tr>\n",
       "      <th>121210</th>\n",
       "      <td>house</td>\n",
       "      <td>nan</td>\n",
       "      <td>120.000</td>\n",
       "      <td>1.000</td>\n",
       "      <td>0</td>\n",
       "      <td>1</td>\n",
       "      <td>Argentina|Bs.As. G.B.A. Zona Norte|San Isidro|...</td>\n",
       "      <td>-1</td>\n",
       "      <td>24.928</td>\n",
       "      <td>0</td>\n",
       "      <td>1</td>\n",
       "    </tr>\n",
       "    <tr>\n",
       "      <th>121211</th>\n",
       "      <td>apartment</td>\n",
       "      <td>nan</td>\n",
       "      <td>205.000</td>\n",
       "      <td>1.000</td>\n",
       "      <td>0</td>\n",
       "      <td>1</td>\n",
       "      <td>Argentina|Bs.As. G.B.A. Zona Norte|San Isidro|...</td>\n",
       "      <td>-1</td>\n",
       "      <td>68.333</td>\n",
       "      <td>0</td>\n",
       "      <td>1</td>\n",
       "    </tr>\n",
       "    <tr>\n",
       "      <th>121212</th>\n",
       "      <td>house</td>\n",
       "      <td>nan</td>\n",
       "      <td>420.000</td>\n",
       "      <td>1.000</td>\n",
       "      <td>0</td>\n",
       "      <td>1</td>\n",
       "      <td>Argentina|Bs.As. G.B.A. Zona Norte|San Isidro|...</td>\n",
       "      <td>-1</td>\n",
       "      <td>94.030</td>\n",
       "      <td>0</td>\n",
       "      <td>1</td>\n",
       "    </tr>\n",
       "    <tr>\n",
       "      <th>121213</th>\n",
       "      <td>house</td>\n",
       "      <td>nan</td>\n",
       "      <td>600.000</td>\n",
       "      <td>1.000</td>\n",
       "      <td>0</td>\n",
       "      <td>1</td>\n",
       "      <td>Argentina|Bs.As. G.B.A. Zona Norte|San Isidro|...</td>\n",
       "      <td>-1</td>\n",
       "      <td>124.638</td>\n",
       "      <td>0</td>\n",
       "      <td>1</td>\n",
       "    </tr>\n",
       "    <tr>\n",
       "      <th>121214</th>\n",
       "      <td>store</td>\n",
       "      <td>nan</td>\n",
       "      <td>123.000</td>\n",
       "      <td>1.000</td>\n",
       "      <td>0</td>\n",
       "      <td>1</td>\n",
       "      <td>Argentina|Bs.As. G.B.A. Zona Norte|San Isidro|</td>\n",
       "      <td>-1</td>\n",
       "      <td>46.125</td>\n",
       "      <td>5</td>\n",
       "      <td>0</td>\n",
       "    </tr>\n",
       "    <tr>\n",
       "      <th>121215</th>\n",
       "      <td>apartment</td>\n",
       "      <td>870000.000</td>\n",
       "      <td>93.000</td>\n",
       "      <td>1.000</td>\n",
       "      <td>1</td>\n",
       "      <td>1</td>\n",
       "      <td>Argentina|Capital Federal|Belgrano|</td>\n",
       "      <td>-1</td>\n",
       "      <td>33.936</td>\n",
       "      <td>0</td>\n",
       "      <td>1</td>\n",
       "    </tr>\n",
       "    <tr>\n",
       "      <th>121216</th>\n",
       "      <td>house</td>\n",
       "      <td>498000.000</td>\n",
       "      <td>360.000</td>\n",
       "      <td>1.000</td>\n",
       "      <td>0</td>\n",
       "      <td>1</td>\n",
       "      <td>Argentina|Bs.As. G.B.A. Zona Norte|San Isidro|...</td>\n",
       "      <td>-1</td>\n",
       "      <td>79.811</td>\n",
       "      <td>0</td>\n",
       "      <td>1</td>\n",
       "    </tr>\n",
       "    <tr>\n",
       "      <th>121217</th>\n",
       "      <td>apartment</td>\n",
       "      <td>131500.000</td>\n",
       "      <td>39.000</td>\n",
       "      <td>1.000</td>\n",
       "      <td>0</td>\n",
       "      <td>1</td>\n",
       "      <td>Argentina|Capital Federal|Villa Urquiza|</td>\n",
       "      <td>0</td>\n",
       "      <td>39.000</td>\n",
       "      <td>0</td>\n",
       "      <td>0</td>\n",
       "    </tr>\n",
       "    <tr>\n",
       "      <th>121219</th>\n",
       "      <td>apartment</td>\n",
       "      <td>129000.000</td>\n",
       "      <td>77.000</td>\n",
       "      <td>1.000</td>\n",
       "      <td>1</td>\n",
       "      <td>1</td>\n",
       "      <td>Argentina|Capital Federal|</td>\n",
       "      <td>-1</td>\n",
       "      <td>30.198</td>\n",
       "      <td>0</td>\n",
       "      <td>1</td>\n",
       "    </tr>\n",
       "  </tbody>\n",
       "</table>\n",
       "<p>85369 rows × 11 columns</p>\n",
       "</div>"
      ],
      "text/plain": [
       "       property_type  price_aprox_usd  surface_covered_in_m2  floor  expenses  \\\n",
       "0                 PH        62000.000                 40.000  1.000         0   \n",
       "2          apartment        72000.000                 55.000  1.000         0   \n",
       "4          apartment        64000.000                 35.000  1.000         0   \n",
       "6                 PH       130000.000                 78.000  1.000         0   \n",
       "7          apartment       138000.000                 40.000  1.000         0   \n",
       "8          apartment       195000.000                 60.000  1.000         0   \n",
       "12         apartment       115000.000                 36.000  1.000         0   \n",
       "13         apartment       111700.000                 30.000  1.000         0   \n",
       "14         apartment       147900.000                 31.000  1.000         0   \n",
       "16                PH       239000.000                 98.000  1.000         0   \n",
       "17         apartment       315000.000                 78.000  1.000         0   \n",
       "18             house       570000.000                270.000  1.000         0   \n",
       "19         apartment       350000.000                 96.000  1.000         0   \n",
       "20             house              nan                148.000  1.000         0   \n",
       "21         apartment       270500.000                 73.000  1.000         0   \n",
       "22             house       290000.000                200.000  1.000         0   \n",
       "23         apartment        82000.000                 42.000  1.000         0   \n",
       "24         apartment       355000.000                160.000  1.000         0   \n",
       "25         apartment       358550.000                160.000  1.000         0   \n",
       "26             house       265000.000                190.000  1.000         0   \n",
       "27             house       650000.000                425.000  1.000         0   \n",
       "28         apartment       362150.000                160.000  1.000         0   \n",
       "29         apartment        75000.000                 43.000  1.000         0   \n",
       "30             house       178000.000                150.000  1.000         0   \n",
       "31             house       130000.000                103.000  1.000         0   \n",
       "32         apartment        30846.020                 50.000  1.000         0   \n",
       "33         apartment       325000.000                 83.000  1.000         0   \n",
       "34                PH       169000.000                160.000  1.000         0   \n",
       "35         apartment       145000.000                 77.000  1.000         0   \n",
       "36             house       400000.000                400.000  1.000         0   \n",
       "...              ...              ...                    ...    ...       ...   \n",
       "121132     apartment       138000.000                 40.000  1.000         0   \n",
       "121135     apartment        95000.000                 19.000  1.000         0   \n",
       "121136     apartment       102000.000                 33.000  1.000         0   \n",
       "121137     apartment       115000.000                 33.000  1.000         0   \n",
       "121138     apartment       208000.000                 60.000  1.000         1   \n",
       "121139     apartment        80523.000                 37.000  1.000         0   \n",
       "121140         house       375000.000                213.000  1.000         1   \n",
       "121141         house       550000.000                280.000  1.000         1   \n",
       "121143     apartment       305000.000                 79.000  1.000         0   \n",
       "121145         house       290000.000                170.000  1.000         0   \n",
       "121146     apartment       350000.000                 87.000  1.000         1   \n",
       "121147         house       430000.000                320.000  1.000         0   \n",
       "121148            PH       229000.000                185.000  1.000         0   \n",
       "121149         house       485000.000                195.000  1.000         0   \n",
       "121150     apartment        95000.000                 52.000  1.000         1   \n",
       "121151     apartment       120000.000                 72.000  1.000         1   \n",
       "121153     apartment       165000.000                 65.000  1.000         0   \n",
       "121154         house       295000.000                205.000  1.000         0   \n",
       "121155         house       170000.000                130.000  1.000         0   \n",
       "121157     apartment       128000.000                 35.000  1.000         0   \n",
       "121207         house              nan                178.000  1.000         1   \n",
       "121210         house              nan                120.000  1.000         0   \n",
       "121211     apartment              nan                205.000  1.000         0   \n",
       "121212         house              nan                420.000  1.000         0   \n",
       "121213         house              nan                600.000  1.000         0   \n",
       "121214         store              nan                123.000  1.000         0   \n",
       "121215     apartment       870000.000                 93.000  1.000         1   \n",
       "121216         house       498000.000                360.000  1.000         0   \n",
       "121217     apartment       131500.000                 39.000  1.000         0   \n",
       "121219     apartment       129000.000                 77.000  1.000         1   \n",
       "\n",
       "        floor_was_nan                                              place  \\\n",
       "0                   1               Argentina|Capital Federal|Mataderos|   \n",
       "2                   1               Argentina|Capital Federal|Mataderos|   \n",
       "4                   1  Argentina|Buenos Aires Costa Atlántica|Mar del...   \n",
       "6                   1  Argentina|Bs.As. G.B.A. Zona Norte|Vicente Lóp...   \n",
       "7                   1                Argentina|Capital Federal|Belgrano|   \n",
       "8                   1                Argentina|Capital Federal|Belgrano|   \n",
       "12                  1  Argentina|Bs.As. G.B.A. Zona Norte|San Isidro|...   \n",
       "13                  1     Argentina|Capital Federal|Palermo|Palermo Soho   \n",
       "14                  1     Argentina|Capital Federal|Palermo|Palermo Soho   \n",
       "16                  1               Argentina|Capital Federal|Mataderos|   \n",
       "17                  1  Argentina|Bs.As. G.B.A. Zona Norte|Tigre|Nordelta   \n",
       "18                  1          Argentina|Bs.As. G.B.A. Zona Norte|Tigre|   \n",
       "19                  1                 Argentina|Capital Federal|Palermo|   \n",
       "20                  1                  Argentina|Córdoba|Villa Giardino|   \n",
       "21                  1                 Argentina|Capital Federal|Palermo|   \n",
       "22                  1  Argentina|Bs.As. G.B.A. Zona Oeste|General Rod...   \n",
       "23                  1     Argentina|Bs.As. G.B.A. Zona Norte|Pilar|Pilar   \n",
       "24                  1  Argentina|Bs.As. G.B.A. Zona Oeste|Morón|Castelar   \n",
       "25                  1  Argentina|Bs.As. G.B.A. Zona Oeste|Morón|Castelar   \n",
       "26                  1  Argentina|Bs.As. G.B.A. Zona Norte|Tigre|Barri...   \n",
       "27                  1  Argentina|Bs.As. G.B.A. Zona Norte|Pilar|Estan...   \n",
       "28                  1  Argentina|Bs.As. G.B.A. Zona Oeste|Morón|Castelar   \n",
       "29                  1                  Argentina|Capital Federal|Flores|   \n",
       "30                  1          Argentina|Bs.As. G.B.A. Zona Norte|Pilar|   \n",
       "31                  1  Argentina|Bs.As. G.B.A. Zona Norte|Vicente Lóp...   \n",
       "32                  1                         Argentina|Córdoba|Córdoba|   \n",
       "33                  1  Argentina|Bs.As. G.B.A. Zona Norte|Tigre|Nordelta   \n",
       "34                  1  Argentina|Bs.As. G.B.A. Zona Norte|Vicente Lóp...   \n",
       "35                  1                   Argentina|Capital Federal|Boedo|   \n",
       "36                  1     Argentina|Bs.As. G.B.A. Zona Norte|Pilar|Pilar   \n",
       "...               ...                                                ...   \n",
       "121132              1  Argentina|Bs.As. G.B.A. Zona Norte|Vicente Lóp...   \n",
       "121135              1  Argentina|Capital Federal|Palermo|Palermo Holl...   \n",
       "121136              1  Argentina|Capital Federal|Palermo|Palermo Holl...   \n",
       "121137              1  Argentina|Capital Federal|Palermo|Palermo Holl...   \n",
       "121138              1                Argentina|Capital Federal|Saavedra|   \n",
       "121139              1  Argentina|Buenos Aires Costa Atlántica|Mar del...   \n",
       "121140              1  Argentina|Bs.As. G.B.A. Zona Sur|Berazategui|A...   \n",
       "121141              1                Argentina|Bs.As. G.B.A. Zona Norte|   \n",
       "121143              1   Argentina|Bs.As. G.B.A. Zona Norte|San Fernando|   \n",
       "121145              1  Argentina|Bs.As. G.B.A. Zona Sur|Lomas de Zamo...   \n",
       "121146              1                 Argentina|Capital Federal|Palermo|   \n",
       "121147              1                Argentina|Capital Federal|Belgrano|   \n",
       "121148              1                  Argentina|Capital Federal|Flores|   \n",
       "121149              1               Argentina|Capital Federal|Caballito|   \n",
       "121150              1                Argentina|Capital Federal|Paternal|   \n",
       "121151              1                  Argentina|Capital Federal|Flores|   \n",
       "121153              1            Argentina|Capital Federal|Barrio Norte|   \n",
       "121154              1  Argentina|Bs.As. G.B.A. Zona Sur|La Plata|La P...   \n",
       "121155              1          Argentina|Bs.As. G.B.A. Zona Norte|Pilar|   \n",
       "121157              1                Argentina|Capital Federal|Belgrano|   \n",
       "121207              1        Argentina|Bs.As. G.B.A. Zona Norte|Escobar|   \n",
       "121210              1  Argentina|Bs.As. G.B.A. Zona Norte|San Isidro|...   \n",
       "121211              1  Argentina|Bs.As. G.B.A. Zona Norte|San Isidro|...   \n",
       "121212              1  Argentina|Bs.As. G.B.A. Zona Norte|San Isidro|...   \n",
       "121213              1  Argentina|Bs.As. G.B.A. Zona Norte|San Isidro|...   \n",
       "121214              1     Argentina|Bs.As. G.B.A. Zona Norte|San Isidro|   \n",
       "121215              1                Argentina|Capital Federal|Belgrano|   \n",
       "121216              1  Argentina|Bs.As. G.B.A. Zona Norte|San Isidro|...   \n",
       "121217              1           Argentina|Capital Federal|Villa Urquiza|   \n",
       "121219              1                         Argentina|Capital Federal|   \n",
       "\n",
       "        rooms_was_nan  m2_per_room  antig  antig_missing  \n",
       "0                   0       20.000      0              1  \n",
       "2                   0       27.500      0              1  \n",
       "4                  -1       14.530      0              1  \n",
       "6                  -1       23.739      0              1  \n",
       "7                   0       40.000      0              0  \n",
       "8                  -1       21.894      0              0  \n",
       "12                  0       18.000      0              1  \n",
       "13                  0       30.000      0              1  \n",
       "14                  0       31.000      0              1  \n",
       "16                  0       24.500      0              1  \n",
       "17                  0       26.000      0              1  \n",
       "18                 -1        4.202      0              1  \n",
       "19                  0       32.000      0              1  \n",
       "20                 -1       49.333      0              1  \n",
       "21                  0       18.250      0              1  \n",
       "22                 -1       45.033      0              1  \n",
       "23                  0       21.000      0              1  \n",
       "24                  0       40.000      0              1  \n",
       "25                  0       40.000      0              1  \n",
       "26                 -1       31.667      0              1  \n",
       "27                 -1       85.000      0              1  \n",
       "28                  0       40.000      0              1  \n",
       "29                  0       21.500      0              1  \n",
       "30                 -1       35.261      0              1  \n",
       "31                  0       34.333      0              1  \n",
       "32                  0       16.667      0              1  \n",
       "33                  0       27.667      0              1  \n",
       "34                  0       26.667      6              0  \n",
       "35                  0       19.250      0              1  \n",
       "36                 -1       88.361      0              1  \n",
       "...               ...          ...    ...            ...  \n",
       "121132             -1       14.359      0              1  \n",
       "121135              0       19.000      0              1  \n",
       "121136              0       33.000      0              1  \n",
       "121137              0       33.000      0              1  \n",
       "121138              0       30.000      0              0  \n",
       "121139              0       12.333      0              1  \n",
       "121140             -1      213.000      0              1  \n",
       "121141             -1       74.930      0              0  \n",
       "121143             -1       33.725      0              1  \n",
       "121145             -1       42.500      0              1  \n",
       "121146             -1       32.162      0              1  \n",
       "121147             -1       62.262      0              1  \n",
       "121148             -1       53.755      0              1  \n",
       "121149             -1       43.875      0              1  \n",
       "121150             -1       24.571      0              1  \n",
       "121151             -1       28.212      0              1  \n",
       "121153             -1       21.516      0              1  \n",
       "121154             -1       48.622      0              1  \n",
       "121155             -1       30.560      0              1  \n",
       "121157             -1       12.772      0              1  \n",
       "121207             -1       41.213      0              1  \n",
       "121210             -1       24.928      0              1  \n",
       "121211             -1       68.333      0              1  \n",
       "121212             -1       94.030      0              1  \n",
       "121213             -1      124.638      0              1  \n",
       "121214             -1       46.125      5              0  \n",
       "121215             -1       33.936      0              1  \n",
       "121216             -1       79.811      0              1  \n",
       "121217              0       39.000      0              0  \n",
       "121219             -1       30.198      0              1  \n",
       "\n",
       "[85369 rows x 11 columns]"
      ]
     },
     "execution_count": 50,
     "metadata": {},
     "output_type": "execute_result"
    }
   ],
   "source": [
    "dataframe"
   ]
  },
  {
   "cell_type": "markdown",
   "metadata": {
    "collapsed": true
   },
   "source": [
    "# Generación del Modelo"
   ]
  },
  {
   "cell_type": "markdown",
   "metadata": {},
   "source": [
    "## Definición de columnas a utilizar\n",
    "###  Fit\n",
    "Elegimos las columnas que son significativas para la predicción:<br>\n",
    "* floor\n",
    "* expenses\n",
    "* rooms\n",
    "* surface_covered_in_m2\n",
    "* property_type\n",
    "* place_with_parent_names\n",
    "\n",
    "### Columna label\n",
    "Esta columna la vamos a utilizar para indicar el valor de cada registro\n",
    "* price_aprox_usd\n"
   ]
  },
  {
   "cell_type": "markdown",
   "metadata": {},
   "source": [
    "## Ciudades a predecir\n",
    "Debido a que vamos a predecir valores de una colección específica de datos, solo nos interesa entrenar el modelo con las ciudades que estan dentro de los valores a predecir. El resto los eliminamos del dataset para tener una menor varianza."
   ]
  },
  {
   "cell_type": "code",
   "execution_count": 51,
   "metadata": {
    "collapsed": true
   },
   "outputs": [],
   "source": [
    "# Cuento la cantidad de propiedades por ciudad. \n",
    "# Utilizo cualquier columna ya que me interesa el valor de filas y no el de alguna columna en particular\n",
    "df_propiedades_por_place = dataframe[['place','property_type']].groupby(by='place').count()\n",
    "\n",
    "# Cambio el nombre de la columna para no confundir datos\n",
    "df_propiedades_por_place = df_propiedades_por_place.rename(index=str,columns={'property_type':'cant_props'})\n",
    "\n",
    "\n",
    "# Obtengo los lugares que tienen una cantidad de propiedades mayor a la cantidad de columnas\n",
    "places_for_model = df_propiedades_por_place.loc[df_propiedades_por_place['cant_props'] > len(dataframe.columns)]\n",
    "\n",
    "# Dejamos solo las ciudades que tienen mas propiedades que características\n",
    "model_dataframe = dataframe.loc[dataframe['place'].isin(places_for_model.index)]"
   ]
  },
  {
   "cell_type": "code",
   "execution_count": 52,
   "metadata": {
    "collapsed": true
   },
   "outputs": [],
   "source": [
    "# Cuento la cantidad de propiedades por ciudad. \n",
    "# Utilizo cualquier columna ya que me interesa el valor de filas y no el de alguna columna en particular\n",
    "df_propiedadespor_tipo = dataframe.groupby(by=['property_type','place']).count()"
   ]
  },
  {
   "cell_type": "markdown",
   "metadata": {},
   "source": [
    "## Normalizacion"
   ]
  },
  {
   "cell_type": "markdown",
   "metadata": {},
   "source": [
    "### Normalizo los label con log1p"
   ]
  },
  {
   "cell_type": "code",
   "execution_count": 53,
   "metadata": {},
   "outputs": [
    {
     "name": "stderr",
     "output_type": "stream",
     "text": [
      "C:\\Users\\Juanu\\Anaconda3\\lib\\site-packages\\pandas\\core\\indexing.py:517: SettingWithCopyWarning: \n",
      "A value is trying to be set on a copy of a slice from a DataFrame.\n",
      "Try using .loc[row_indexer,col_indexer] = value instead\n",
      "\n",
      "See the caveats in the documentation: http://pandas.pydata.org/pandas-docs/stable/indexing.html#indexing-view-versus-copy\n",
      "  self.obj[item] = s\n"
     ]
    }
   ],
   "source": [
    "from sklearn.preprocessing import FunctionTransformer\n",
    "\n",
    "# Instancio el Optimus Prime con log1p\n",
    "transformer = FunctionTransformer(np.log1p)\n",
    "\n",
    "# Obtengo los valores de precio que no son NaN, como un numpy array\n",
    "price = model_dataframe.loc[~model_dataframe['price_aprox_usd'].isnull(),'price_aprox_usd'].copy().values\n",
    "\n",
    "# Aplico la transformación y la asigno directamente a la columna de precio\n",
    "model_dataframe.loc[~model_dataframe['price_aprox_usd'].isnull(),'price_aprox_usd'] = transformer.transform([price])[0]"
   ]
  },
  {
   "cell_type": "markdown",
   "metadata": {},
   "source": [
    "## Normalizamos los X con MinMax"
   ]
  },
  {
   "cell_type": "code",
   "execution_count": 54,
   "metadata": {},
   "outputs": [
    {
     "name": "stderr",
     "output_type": "stream",
     "text": [
      "C:\\Users\\Juanu\\Anaconda3\\lib\\site-packages\\ipykernel_launcher.py:34: SettingWithCopyWarning: \n",
      "A value is trying to be set on a copy of a slice from a DataFrame.\n",
      "Try using .loc[row_indexer,col_indexer] = value instead\n",
      "\n",
      "See the caveats in the documentation: http://pandas.pydata.org/pandas-docs/stable/indexing.html#indexing-view-versus-copy\n",
      "C:\\Users\\Juanu\\Anaconda3\\lib\\site-packages\\pandas\\core\\indexing.py:517: SettingWithCopyWarning: \n",
      "A value is trying to be set on a copy of a slice from a DataFrame.\n",
      "Try using .loc[row_indexer,col_indexer] = value instead\n",
      "\n",
      "See the caveats in the documentation: http://pandas.pydata.org/pandas-docs/stable/indexing.html#indexing-view-versus-copy\n",
      "  self.obj[item] = s\n"
     ]
    }
   ],
   "source": [
    "from sklearn.preprocessing import MinMaxScaler\n",
    "from sklearn.preprocessing import scale\n",
    "\n",
    "minmaxscaler_model = MinMaxScaler()\n",
    "\n",
    "# Columnas a normalizar\n",
    "columnas= [CAMPO_SUPERFICIE]\n",
    "\n",
    "# Si calcula distancia con barrio privado\n",
    "if IDENTIFICAR_BARRIOS_PRIVADOS:\n",
    "    columnas.append('distancia_barrio_privado')\n",
    "\n",
    "# Si calcula superficie por ambiente y uso ROOMS\n",
    "if CALCULAR_SUPERFICIE_POR_AMBIENTE & UTILIZAR_ROOMS:\n",
    "    # También normalizar rooms por m2\n",
    "    columnas.append('m2_per_room')\n",
    "elif UTILIZAR_ROOMS & (~CALCULAR_SUPERFICIE_POR_AMBIENTE):\n",
    "    columnas.append('rooms')\n",
    "\n",
    "# Si utilizamos antiguedad\n",
    "if UTILIZAR_ANTIGUEDAD:\n",
    "    columnas.append('antig')\n",
    "    \n",
    "# Si utilizamos floor\n",
    "if UTILIZAR_FLOOR:\n",
    "    columnas.append('floor')\n",
    "    \n",
    "# Si utilizamos expensas\n",
    "if UTILIZAR_EXPENSES:\n",
    "    columnas.append('expenses')\n",
    "    \n",
    "\n",
    "# Aplico scale a las columnas elegidas\n",
    "model_dataframe[columnas] = minmaxscaler_model.fit_transform(model_dataframe[columnas])"
   ]
  },
  {
   "cell_type": "markdown",
   "metadata": {
    "collapsed": true
   },
   "source": [
    "## Columnas Dummies\n",
    "Convertimos las columnas categórias a columnas Dummy."
   ]
  },
  {
   "cell_type": "markdown",
   "metadata": {},
   "source": [
    "### Property Type\n",
    "Obtenemos las dummies de property type"
   ]
  },
  {
   "cell_type": "code",
   "execution_count": 55,
   "metadata": {
    "collapsed": true
   },
   "outputs": [],
   "source": [
    "# Obtenemos las columnas dummies de property_type\n",
    "df_property_type = pd.get_dummies(model_dataframe['property_type'], drop_first=True, prefix='property_type_')\n",
    "\n",
    "# Agregamos las columnas dummies concatenando el dataframe original con las dummies\n",
    "dataframe_with_dummies = pd.concat([model_dataframe, df_property_type], axis=1)\n",
    "\n",
    "# Eliminamos la columna property_type del dataframe nuevo\n",
    "dataframe_with_dummies = dataframe_with_dummies.drop('property_type', axis=1)"
   ]
  },
  {
   "cell_type": "markdown",
   "metadata": {},
   "source": [
    "### Place\n",
    "Obtenemos las dummies de place si es que se usa . Sino eliminamos la feature place."
   ]
  },
  {
   "cell_type": "code",
   "execution_count": 56,
   "metadata": {
    "collapsed": true
   },
   "outputs": [],
   "source": [
    "if UTILIZAR_UBICACION:\n",
    "    # Obtenemos las columnas dummies de place_with_parent_names\n",
    "    df_places = pd.get_dummies(model_dataframe['place'], drop_first=True, prefix='place_')\n",
    "    \n",
    "    # Agreamos las columnas dummies concatenando el nuevo dataframe con las dummies\n",
    "    dataframe_with_dummies = pd.concat([dataframe_with_dummies, df_places], axis=1)\n",
    "    \n",
    "    # Eliminamos la columna place_with_parent_names del nuevo dataframe\n",
    "    dataframe_with_dummies = dataframe_with_dummies.drop('place', axis=1)\n",
    "    \n",
    "    # Guardamos el nombre de cada PLACE en la variable places\n",
    "    places = df_places.columns\n",
    "else:\n",
    "    dataframe_with_dummies = dataframe_with_dummies.drop('place', axis=1)"
   ]
  },
  {
   "cell_type": "markdown",
   "metadata": {},
   "source": [
    "### Barrio Privado\n",
    "Obtenemos las dummies de Barrio Privado si se usa."
   ]
  },
  {
   "cell_type": "code",
   "execution_count": 57,
   "metadata": {
    "collapsed": true
   },
   "outputs": [],
   "source": [
    "if IDENTIFICAR_BARRIOS_PRIVADOS:\n",
    "    # Obtenemos las columnas dummies de nombre_barrio_privado\n",
    "    df_barrios = pd.get_dummies(model_dataframe['nombre_barrio_privado'], drop_first=True, prefix='nombre_barrio_')\n",
    "    \n",
    "    # Agreamos las columnas dummies concatenando el nuevo dataframe con las dummies\n",
    "    dataframe_with_dummies = pd.concat([dataframe_with_dummies, df_barrios], axis=1)\n",
    "    \n",
    "    # Eliminamos la columna nombre_barrio_privado del nuevo dataframe\n",
    "    dataframe_with_dummies = dataframe_with_dummies.drop('nombre_barrio_privado', axis=1)\n",
    "    \n",
    "    # Guardamos el nombre de cada BARRIO en la variable BARRIOS\n",
    "    barrios = df_places.columns"
   ]
  },
  {
   "cell_type": "markdown",
   "metadata": {},
   "source": [
    "## Place x Superficie\n",
    "Creamos otra colección de features mutiplicando la superficie de la propiedad * el lugar. Esto va a generar un $\\beta$ distinto para cada propiedad, dependiendo del lugar donde está."
   ]
  },
  {
   "cell_type": "code",
   "execution_count": 58,
   "metadata": {
    "collapsed": true
   },
   "outputs": [],
   "source": [
    "if PLACE_X_SURFACE:\n",
    "    # Obtengo el array de numpy de Superficies\n",
    "    arr_superficie = model_dataframe[CAMPO_SUPERFICIE].values\n",
    "\n",
    "    # La paso de 1 dimension a 2.\n",
    "    arr_superficie = arr_superficie[:, None]\n",
    "    \n",
    "    # Calculo el producto de cada columna de lugar x la superficie para obtener una columna de superficie para cada lugar.\n",
    "    df_mul_places = pd.DataFrame(df_places.values * arr_superficie)\n",
    "    \n",
    "    #df_mul_places.reset_index(drop=True, inplace=True)\n",
    "    dataframe_with_dummies.reset_index(drop=True, inplace=True)\n",
    "    \n",
    "    # Le agrego las nuevas columnas al datafra,e\n",
    "    dataframe_with_dummies = pd.concat( [dataframe_with_dummies, df_mul_places], axis=1) "
   ]
  },
  {
   "cell_type": "markdown",
   "metadata": {},
   "source": [
    "## Property Type x Superficie\n",
    "Creamos otra colección de features mutiplicando la superficie de la propiedad * el tipo de propiedad. Esto va a generar un $\\beta$ distinto para cada propiedad, dependiendo del tipo de propiedad."
   ]
  },
  {
   "cell_type": "code",
   "execution_count": 59,
   "metadata": {
    "collapsed": true
   },
   "outputs": [],
   "source": [
    "if PROPERTY_TYPE_X_SURFACE:\n",
    "    # Obtengo el array de numpy de Superficies\n",
    "    arr_superficie = model_dataframe[CAMPO_SUPERFICIE].values \n",
    "    \n",
    "    # La paso de 1 dimension a 2.\n",
    "    arr_superficie = arr_superficie[:, None]\n",
    "        \n",
    "    # Calculo el producto de cada columna de lugar x la superficie para obtener una columna de superficie para cada lugar.\n",
    "    df_mul_property_type = pd.DataFrame(df_property_type.values * arr_superficie)\n",
    "    \n",
    "    #df_mul_property_type.reset_index(drop=True, inplace=True)\n",
    "    dataframe_with_dummies.reset_index(drop=True, inplace=True)\n",
    "    \n",
    "    # Le agrego las nuevas columnas al datafra,e\n",
    "    dataframe_with_dummies = pd.concat( [dataframe_with_dummies, df_mul_property_type], axis=1) "
   ]
  },
  {
   "cell_type": "markdown",
   "metadata": {},
   "source": [
    "## Expenses x Place"
   ]
  },
  {
   "cell_type": "code",
   "execution_count": 60,
   "metadata": {
    "collapsed": true
   },
   "outputs": [],
   "source": [
    "if UTILIZAR_EXPENSES:\n",
    "    # Obtengo el array de numpy de Expenses\n",
    "    arr_expenses = model_dataframe['expenses'].values\n",
    "\n",
    "    # La paso de 1 dimension a 2.\n",
    "    arr_expenses = arr_expenses[:, None]\n",
    "    \n",
    "    # Calculo el producto de cada columna de lugar x la superficie para obtener una columna de superficie para cada lugar.\n",
    "    df_mul_expenses = pd.DataFrame(df_places.values * arr_expenses)\n",
    "    \n",
    "    #df_mul_places.reset_index(drop=True, inplace=True)\n",
    "    dataframe_with_dummies.reset_index(drop=True, inplace=True)\n",
    "    \n",
    "    # Le agrego las nuevas columnas al datafra,e\n",
    "    dataframe_with_dummies = pd.concat( [dataframe_with_dummies, df_mul_expenses], axis=1) \n",
    "    \n",
    "    # Elimino la columna Expenses\n",
    "    dataframe_with_dummies = dataframe_with_dummies.drop('expenses', axis=1)"
   ]
  },
  {
   "cell_type": "markdown",
   "metadata": {},
   "source": [
    "## Barrio Privado x Distancia con Barrio privado"
   ]
  },
  {
   "cell_type": "code",
   "execution_count": 61,
   "metadata": {
    "collapsed": true
   },
   "outputs": [],
   "source": [
    "if IDENTIFICAR_BARRIOS_PRIVADOS:\n",
    "    # Obtengo el array de numpy de distancias con barrio privado\n",
    "    arr_distancia = model_dataframe['distancia_barrio_privado'].values\n",
    "\n",
    "    # La paso de 1 dimension a 2.\n",
    "    arr_distancia = arr_distancia[:, None]\n",
    "    \n",
    "    # Calculo el producto de cada columna de barrio x la dstancia para obtener una columna de distanca para cada barrio.\n",
    "    df_mul_barrio = pd.DataFrame(df_barrios.values * arr_distancia)\n",
    "    \n",
    "    #df_mul_places.reset_index(drop=True, inplace=True)\n",
    "    dataframe_with_dummies.reset_index(drop=True, inplace=True)\n",
    "    \n",
    "    # Le agrego las nuevas columnas al datafra,e\n",
    "    dataframe_with_dummies = pd.concat( [dataframe_with_dummies, df_mul_barrio], axis=1) \n",
    "    \n",
    "    # Elimino la columna distancia_barrio_privado\n",
    "    dataframe_with_dummies = dataframe_with_dummies.drop('distancia_barrio_privado', axis=1)"
   ]
  },
  {
   "cell_type": "markdown",
   "metadata": {},
   "source": [
    "## Preparación de Features y Labels de Entrenamiento y Test\n",
    "Utilizamos el modelo de Regresión Lineal y lo entrenamos con nuestros datos de entrenamiento"
   ]
  },
  {
   "cell_type": "markdown",
   "metadata": {},
   "source": [
    "### Separo los datos que tienen precio de los que no"
   ]
  },
  {
   "cell_type": "code",
   "execution_count": 62,
   "metadata": {
    "collapsed": true
   },
   "outputs": [],
   "source": [
    "def get_train_predict_sets(df):\n",
    "    # Guardo las filas que tienen el precio en NaN en la variable data_frame_empty_price\n",
    "    dataframe_predict = df.loc[df['price_aprox_usd'].isnull()]\n",
    "\n",
    "    # Luego, elimino esas filas del dataframe original.\n",
    "    dataframe_train = df.drop(dataframe_predict.index)\n",
    "\n",
    "    return dataframe_train, dataframe_predict"
   ]
  },
  {
   "cell_type": "markdown",
   "metadata": {},
   "source": [
    "### Valores y Labels\n",
    "Del dataframe, separamos nuestros labels de los valores a utilizar para entrenar"
   ]
  },
  {
   "cell_type": "code",
   "execution_count": 63,
   "metadata": {
    "collapsed": true
   },
   "outputs": [],
   "source": [
    "def get_features_labels(df):\n",
    "    \"Separa las features de los labels de un dataframe y los devuelve en el orden FEATURES, LABELS (X, Y)\"\n",
    "    \n",
    "    # Obtengo los labels (precio aprox en USD)\n",
    "    Y = df['price_aprox_usd']\n",
    "\n",
    "    # Obtengo los valores sin los labels\n",
    "    X = df.drop('price_aprox_usd', axis=1)\n",
    "    \n",
    "    return X, Y"
   ]
  },
  {
   "cell_type": "markdown",
   "metadata": {},
   "source": [
    "### Holdout Sets\n",
    "De nuestros datos de entrenamiento con labels conocidos, separamos un porcentaje con el cual entrenaremos el modelo, y otro porcentaje con el cual haremos la validación. Vamos a usar un 70% para el entrenamiento y un 30% para la validación."
   ]
  },
  {
   "cell_type": "code",
   "execution_count": 64,
   "metadata": {
    "collapsed": true
   },
   "outputs": [],
   "source": [
    "# Utilizamos el método train_test_split de Scikit Learn para separar los datos\n",
    "from sklearn.model_selection import train_test_split\n",
    "\n",
    "def get_houldout_sets(X,Y, random_state, train_size):   \n",
    "    \n",
    "    # obtenemos X e Y de test y entrenamiento.\n",
    "    X_train, X_test, Y_train, Y_test = train_test_split(X, Y, random_state=random_state, train_size=train_size)\n",
    "    \n",
    "    return X_train, X_test, Y_train, Y_test"
   ]
  },
  {
   "cell_type": "markdown",
   "metadata": {},
   "source": [
    "## Entrenamiento y predicción de los valores test para TODAS las Zonas\n",
    "Entrenamos el modelo con todos los valores y verificamos el score"
   ]
  },
  {
   "cell_type": "markdown",
   "metadata": {},
   "source": [
    "### Cross Validation de Modelos"
   ]
  },
  {
   "cell_type": "code",
   "execution_count": 65,
   "metadata": {
    "collapsed": true
   },
   "outputs": [],
   "source": [
    "from sklearn.preprocessing import PolynomialFeatures\n",
    "from scipy.sparse import csr_matrix\n",
    "\n",
    "# Dataframe donde muestro los resultados\n",
    "df_resultados = pd.DataFrame(columns=['Model', 'MSE', 'R^2', 'Alpha'])\n",
    "\n",
    "# Obtengo los dataframe de train y predict\n",
    "df_train, df_predict = get_train_predict_sets(dataframe_with_dummies)\n",
    "\n",
    "# Obtengo los features y labels por separado\n",
    "X, Y = get_features_labels(df_train)\n",
    "\n",
    "#X = PolynomialFeatures().fit_transform(X)\n",
    "\n",
    "\n",
    "# Obtengo los sets de entrenamiento y de test con un 70% de valores de entrenamiento (30% de test)\n",
    "X_train, X_test, Y_train, Y_test = get_houldout_sets(X, Y, random_state=1, train_size=0.70)"
   ]
  },
  {
   "cell_type": "markdown",
   "metadata": {},
   "source": [
    "### Cantidad de registros"
   ]
  },
  {
   "cell_type": "code",
   "execution_count": 66,
   "metadata": {},
   "outputs": [
    {
     "name": "stdout",
     "output_type": "stream",
     "text": [
      "Se entrenarán a los modelos con  52803 registros\n"
     ]
    }
   ],
   "source": [
    "print('Se entrenarán a los modelos con ',len(X_train),'registros')"
   ]
  },
  {
   "cell_type": "markdown",
   "metadata": {},
   "source": [
    "### Regresion lineal"
   ]
  },
  {
   "cell_type": "code",
   "execution_count": 67,
   "metadata": {},
   "outputs": [
    {
     "data": {
      "text/html": [
       "<div>\n",
       "<style>\n",
       "    .dataframe thead tr:only-child th {\n",
       "        text-align: right;\n",
       "    }\n",
       "\n",
       "    .dataframe thead th {\n",
       "        text-align: left;\n",
       "    }\n",
       "\n",
       "    .dataframe tbody tr th {\n",
       "        vertical-align: top;\n",
       "    }\n",
       "</style>\n",
       "<table border=\"1\" class=\"dataframe\">\n",
       "  <thead>\n",
       "    <tr style=\"text-align: right;\">\n",
       "      <th></th>\n",
       "      <th>Model</th>\n",
       "      <th>MSE</th>\n",
       "      <th>R^2</th>\n",
       "      <th>Alpha</th>\n",
       "      <th>Cant. Cols.</th>\n",
       "    </tr>\n",
       "  </thead>\n",
       "  <tbody>\n",
       "    <tr>\n",
       "      <th>0</th>\n",
       "      <td>Linear Regression</td>\n",
       "      <td>0.339</td>\n",
       "      <td>0.390</td>\n",
       "      <td>0</td>\n",
       "      <td>1249.000</td>\n",
       "    </tr>\n",
       "  </tbody>\n",
       "</table>\n",
       "</div>"
      ],
      "text/plain": [
       "               Model   MSE   R^2 Alpha  Cant. Cols.\n",
       "0  Linear Regression 0.339 0.390     0     1249.000"
      ]
     },
     "execution_count": 67,
     "metadata": {},
     "output_type": "execute_result"
    }
   ],
   "source": [
    "# Importamos librerias de scikit learn\n",
    "from sklearn import linear_model\n",
    "from sklearn.metrics import accuracy_score\n",
    "from sklearn.model_selection import cross_val_score\n",
    "from sklearn.metrics import mean_squared_error\n",
    "\n",
    "# Instancio el modelo\n",
    "lin_model = linear_model.LinearRegression()\n",
    "# Fiteo el modelo\n",
    "lin_model.fit(X_train, Y_train)\n",
    "# Predigo los valores \n",
    "Y_predicted_linear = lin_model.predict(X_test)\n",
    "# Ejecuto una cross validation de 5 folds\n",
    "mse_score_linear = cross_val_score(lin_model, X, Y, cv=5, scoring='neg_mean_squared_error') * -1\n",
    "r2_score_linear = cross_val_score(lin_model, X, Y, cv=5)\n",
    "\n",
    "\n",
    "# Agrego los resultados al dataframe de resultados\n",
    "row = {'Model':'Linear Regression', 'MSE': mse_score_linear.mean(), 'R^2': r2_score_linear.mean(), 'Alpha': 0, 'Cant. Cols.': len(X_train.columns)}\n",
    "df_resultados = df_resultados.append(row, ignore_index=True)\n",
    "\n",
    "# Muestro los resultados\n",
    "df_resultados"
   ]
  },
  {
   "cell_type": "code",
   "execution_count": 68,
   "metadata": {},
   "outputs": [
    {
     "data": {
      "text/plain": [
       "<matplotlib.collections.PathCollection at 0x16194958d30>"
      ]
     },
     "execution_count": 68,
     "metadata": {},
     "output_type": "execute_result"
    },
    {
     "data": {
      "image/png": "[encoded data removed]",
      "text/plain": [
       "<matplotlib.figure.Figure at 0x161944838d0>"
      ]
     },
     "metadata": {},
     "output_type": "display_data"
    }
   ],
   "source": [
    "plt.scatter(x=Y_test, y =Y_predicted_linear)"
   ]
  },
  {
   "cell_type": "markdown",
   "metadata": {},
   "source": [
    "### Ridge"
   ]
  },
  {
   "cell_type": "code",
   "execution_count": 69,
   "metadata": {},
   "outputs": [
    {
     "data": {
      "text/html": [
       "<div>\n",
       "<style>\n",
       "    .dataframe thead tr:only-child th {\n",
       "        text-align: right;\n",
       "    }\n",
       "\n",
       "    .dataframe thead th {\n",
       "        text-align: left;\n",
       "    }\n",
       "\n",
       "    .dataframe tbody tr th {\n",
       "        vertical-align: top;\n",
       "    }\n",
       "</style>\n",
       "<table border=\"1\" class=\"dataframe\">\n",
       "  <thead>\n",
       "    <tr style=\"text-align: right;\">\n",
       "      <th></th>\n",
       "      <th>Model</th>\n",
       "      <th>MSE</th>\n",
       "      <th>R^2</th>\n",
       "      <th>Alpha</th>\n",
       "      <th>Cant. Cols.</th>\n",
       "    </tr>\n",
       "  </thead>\n",
       "  <tbody>\n",
       "    <tr>\n",
       "      <th>0</th>\n",
       "      <td>Linear Regression</td>\n",
       "      <td>0.339</td>\n",
       "      <td>0.390</td>\n",
       "      <td>0</td>\n",
       "      <td>1249.000</td>\n",
       "    </tr>\n",
       "    <tr>\n",
       "      <th>1</th>\n",
       "      <td>Ridge</td>\n",
       "      <td>0.201</td>\n",
       "      <td>0.639</td>\n",
       "      <td>0.100</td>\n",
       "      <td>1249.000</td>\n",
       "    </tr>\n",
       "  </tbody>\n",
       "</table>\n",
       "</div>"
      ],
      "text/plain": [
       "               Model   MSE   R^2 Alpha  Cant. Cols.\n",
       "0  Linear Regression 0.339 0.390     0     1249.000\n",
       "1              Ridge 0.201 0.639 0.100     1249.000"
      ]
     },
     "execution_count": 69,
     "metadata": {},
     "output_type": "execute_result"
    }
   ],
   "source": [
    "# Instancio el modelo\n",
    "ridge_model = linear_model.RidgeCV(cv=5)\n",
    "# Fiteo el modelo\n",
    "ridge_model_fitted = ridge_model.fit(X_train, Y_train)\n",
    "# Predigo los valores \n",
    "Y_predicted_ridge = ridge_model_fitted.predict(X_test)\n",
    "# Obtengo el score R2\n",
    "r2_score_ridge = ridge_model_fitted.score(X, Y)\n",
    "# Obtengo el MSE\n",
    "mse_score_ridge = mean_squared_error(Y_test, Y_predicted_ridge)\n",
    "\n",
    "\n",
    "# Agrego los resultados al dataframe de resultados\n",
    "row = {'Model':'Ridge', 'MSE': mse_score_ridge.mean(), 'R^2': r2_score_ridge.mean(), 'Alpha': ridge_model_fitted.alpha_, 'Cant. Cols.': len(X_train.columns)}\n",
    "df_resultados = df_resultados.append(row, ignore_index=True)\n",
    "\n",
    "# Muestro los resultados\n",
    "df_resultados"
   ]
  },
  {
   "cell_type": "code",
   "execution_count": 70,
   "metadata": {},
   "outputs": [
    {
     "data": {
      "text/plain": [
       "<matplotlib.text.Text at 0x16194b15240>"
      ]
     },
     "execution_count": 70,
     "metadata": {},
     "output_type": "execute_result"
    },
    {
     "data": {
      "image/png": "[encoded data removed]",
      "text/plain": [
       "<matplotlib.figure.Figure at 0x161953cdd68>"
      ]
     },
     "metadata": {},
     "output_type": "display_data"
    }
   ],
   "source": [
    "plt.figure(figsize=(8,6))\n",
    "plt.scatter(x=Y_test, y =Y_predicted_ridge)\n",
    "plt.title('Valores predichos Vs. Valores Reales (RIDGE)', fontsize=16)\n",
    "plt.ylabel('Valores Predichos (con scale)')\n",
    "plt.xlabel('Valores Reales (con scale)')"
   ]
  },
  {
   "cell_type": "markdown",
   "metadata": {},
   "source": [
    "### Lasso"
   ]
  },
  {
   "cell_type": "code",
   "execution_count": 71,
   "metadata": {},
   "outputs": [
    {
     "data": {
      "text/html": [
       "<div>\n",
       "<style>\n",
       "    .dataframe thead tr:only-child th {\n",
       "        text-align: right;\n",
       "    }\n",
       "\n",
       "    .dataframe thead th {\n",
       "        text-align: left;\n",
       "    }\n",
       "\n",
       "    .dataframe tbody tr th {\n",
       "        vertical-align: top;\n",
       "    }\n",
       "</style>\n",
       "<table border=\"1\" class=\"dataframe\">\n",
       "  <thead>\n",
       "    <tr style=\"text-align: right;\">\n",
       "      <th></th>\n",
       "      <th>Model</th>\n",
       "      <th>MSE</th>\n",
       "      <th>R^2</th>\n",
       "      <th>Alpha</th>\n",
       "      <th>Cant. Cols.</th>\n",
       "    </tr>\n",
       "  </thead>\n",
       "  <tbody>\n",
       "    <tr>\n",
       "      <th>0</th>\n",
       "      <td>Linear Regression</td>\n",
       "      <td>0.339</td>\n",
       "      <td>0.390</td>\n",
       "      <td>0</td>\n",
       "      <td>1249.000</td>\n",
       "    </tr>\n",
       "    <tr>\n",
       "      <th>1</th>\n",
       "      <td>Ridge</td>\n",
       "      <td>0.201</td>\n",
       "      <td>0.639</td>\n",
       "      <td>0.100</td>\n",
       "      <td>1249.000</td>\n",
       "    </tr>\n",
       "    <tr>\n",
       "      <th>2</th>\n",
       "      <td>Lasso</td>\n",
       "      <td>0.214</td>\n",
       "      <td>0.607</td>\n",
       "      <td>0.000</td>\n",
       "      <td>1249.000</td>\n",
       "    </tr>\n",
       "  </tbody>\n",
       "</table>\n",
       "</div>"
      ],
      "text/plain": [
       "               Model   MSE   R^2 Alpha  Cant. Cols.\n",
       "0  Linear Regression 0.339 0.390     0     1249.000\n",
       "1              Ridge 0.201 0.639 0.100     1249.000\n",
       "2              Lasso 0.214 0.607 0.000     1249.000"
      ]
     },
     "execution_count": 71,
     "metadata": {},
     "output_type": "execute_result"
    }
   ],
   "source": [
    "# Instancio el modelo\n",
    "lasso_model = linear_model.LassoCV(cv=5,max_iter=2000)\n",
    "#Fiteo el modelo\n",
    "lasso_model_fitted = lasso_model.fit(X_train,Y_train)\n",
    "# Predigo los datos\n",
    "Y_predicted_lasso = lasso_model_fitted.predict(X_test)\n",
    "# Obtengo el score R2\n",
    "r2_score_lasso = lasso_model_fitted.score(X, Y)\n",
    "# Obtengo el MSE\n",
    "mse_score_lasso = mean_squared_error(Y_test, Y_predicted_lasso)\n",
    "\n",
    "# Agrego los resultados al dataframe de resultados\n",
    "row = {'Model':'Lasso', 'MSE': mse_score_lasso.mean(), 'R^2':r2_score_lasso.mean(), 'Alpha': lasso_model_fitted.alpha_, 'Cant. Cols.': len(X_train.columns)}\n",
    "df_resultados = df_resultados.append(row, ignore_index=True)\n",
    "\n",
    "# Muestro los resultados\n",
    "df_resultados"
   ]
  },
  {
   "cell_type": "markdown",
   "metadata": {},
   "source": [
    "## Elimino las columnas cuyos coeficientes son cero y pruebo nuevamente\n",
    "Eliminamos las columnas cuyos coeficientes son cero y luego ejecutamos Lasso nuevamente"
   ]
  },
  {
   "cell_type": "code",
   "execution_count": 72,
   "metadata": {
    "collapsed": true
   },
   "outputs": [],
   "source": [
    "# Elimino las columnas de X cuyos coeficientes son 0 (cero)\n",
    "X = X[X.columns[np.nonzero(lasso_model_fitted.coef_)]]\n",
    "\n",
    "# Obtengo el test split\n",
    "X_train, X_test, Y_train, Y_test = get_houldout_sets(X, Y, random_state=1, train_size=0.70)"
   ]
  },
  {
   "cell_type": "markdown",
   "metadata": {},
   "source": [
    "### Ridge"
   ]
  },
  {
   "cell_type": "code",
   "execution_count": 73,
   "metadata": {},
   "outputs": [],
   "source": [
    "# NO EJECUTO ESTO\n",
    "if True == False:\n",
    "    \n",
    "    # Instancio el modelo\n",
    "    ridge_model = linear_model.RidgeCV(cv=5)\n",
    "    # Fiteo el modelo\n",
    "    ridge_model_fitted = ridge_model.fit(X_train, Y_train)\n",
    "    # Predigo los valores \n",
    "    Y_predicted_ridge = ridge_model_fitted.predict(X_test)\n",
    "    # Obtengo el score R2\n",
    "    r2_score_ridge = ridge_model_fitted.score(X, Y)\n",
    "    # Obtengo el MSE\n",
    "    mse_score_ridge = mean_squared_error(Y_test, Y_predicted_ridge)\n",
    "    \n",
    "    \n",
    "    # Agrego los resultados al dataframe de resultados\n",
    "    row = {'Model':'Ridge sin coef 0', 'MSE': mse_score_ridge.mean(), 'R^2': r2_score_ridge.mean(), 'Alpha': ridge_model_fitted.alpha_, 'Cant. Cols.': len(X_train.columns)}\n",
    "    df_resultados = df_resultados.append(row, ignore_index=True)\n",
    "    \n",
    "    # Muestro los resultados\n",
    "    df_resultados"
   ]
  },
  {
   "cell_type": "markdown",
   "metadata": {},
   "source": [
    "### Lasso"
   ]
  },
  {
   "cell_type": "code",
   "execution_count": 74,
   "metadata": {},
   "outputs": [
    {
     "data": {
      "text/html": [
       "<div>\n",
       "<style>\n",
       "    .dataframe thead tr:only-child th {\n",
       "        text-align: right;\n",
       "    }\n",
       "\n",
       "    .dataframe thead th {\n",
       "        text-align: left;\n",
       "    }\n",
       "\n",
       "    .dataframe tbody tr th {\n",
       "        vertical-align: top;\n",
       "    }\n",
       "</style>\n",
       "<table border=\"1\" class=\"dataframe\">\n",
       "  <thead>\n",
       "    <tr style=\"text-align: right;\">\n",
       "      <th></th>\n",
       "      <th>Model</th>\n",
       "      <th>MSE</th>\n",
       "      <th>R^2</th>\n",
       "      <th>Alpha</th>\n",
       "      <th>Cant. Cols.</th>\n",
       "    </tr>\n",
       "  </thead>\n",
       "  <tbody>\n",
       "    <tr>\n",
       "      <th>0</th>\n",
       "      <td>Linear Regression</td>\n",
       "      <td>0.339</td>\n",
       "      <td>0.390</td>\n",
       "      <td>0</td>\n",
       "      <td>1249.000</td>\n",
       "    </tr>\n",
       "    <tr>\n",
       "      <th>1</th>\n",
       "      <td>Ridge</td>\n",
       "      <td>0.201</td>\n",
       "      <td>0.639</td>\n",
       "      <td>0.100</td>\n",
       "      <td>1249.000</td>\n",
       "    </tr>\n",
       "    <tr>\n",
       "      <th>2</th>\n",
       "      <td>Lasso</td>\n",
       "      <td>0.214</td>\n",
       "      <td>0.607</td>\n",
       "      <td>0.000</td>\n",
       "      <td>1249.000</td>\n",
       "    </tr>\n",
       "    <tr>\n",
       "      <th>3</th>\n",
       "      <td>Lasso sin coef 0</td>\n",
       "      <td>0.214</td>\n",
       "      <td>0.607</td>\n",
       "      <td>0.000</td>\n",
       "      <td>301.000</td>\n",
       "    </tr>\n",
       "  </tbody>\n",
       "</table>\n",
       "</div>"
      ],
      "text/plain": [
       "               Model   MSE   R^2 Alpha  Cant. Cols.\n",
       "0  Linear Regression 0.339 0.390     0     1249.000\n",
       "1              Ridge 0.201 0.639 0.100     1249.000\n",
       "2              Lasso 0.214 0.607 0.000     1249.000\n",
       "3   Lasso sin coef 0 0.214 0.607 0.000      301.000"
      ]
     },
     "execution_count": 74,
     "metadata": {},
     "output_type": "execute_result"
    }
   ],
   "source": [
    "# Instancio el modelo\n",
    "lasso_model = linear_model.LassoCV(cv=5,max_iter=2000)\n",
    "#Fiteo el modelo\n",
    "lasso_model_fitted = lasso_model.fit(X_train,Y_train)\n",
    "# Predigo los datos\n",
    "Y_predicted_lasso = lasso_model_fitted.predict(X_test)\n",
    "# Obtengo el score R2\n",
    "r2_score_lasso = lasso_model_fitted.score(X, Y)\n",
    "# Obtengo el MSE\n",
    "mse_score_lasso = mean_squared_error(Y_test, Y_predicted_lasso)\n",
    "\n",
    "# Agrego los resultados al dataframe de resultados\n",
    "row = {'Model':'Lasso sin coef 0', 'MSE': mse_score_lasso.mean(), 'R^2':r2_score_lasso.mean(), 'Alpha': lasso_model_fitted.alpha_, 'Cant. Cols.': len(X_train.columns)}\n",
    "df_resultados = df_resultados.append(row, ignore_index=True)\n",
    "\n",
    "# Muestro los resultados\n",
    "df_resultados\n"
   ]
  },
  {
   "cell_type": "code",
   "execution_count": 75,
   "metadata": {},
   "outputs": [
    {
     "data": {
      "text/plain": [
       "<matplotlib.text.Text at 0x16194b15780>"
      ]
     },
     "execution_count": 75,
     "metadata": {},
     "output_type": "execute_result"
    },
    {
     "data": {
      "image/png": "[encoded data removed]",
      "text/plain": [
       "<matplotlib.figure.Figure at 0x16196783128>"
      ]
     },
     "metadata": {},
     "output_type": "display_data"
    }
   ],
   "source": [
    "plt.figure(figsize=(8,6))\n",
    "plt.scatter(x=Y_test, y =Y_predicted_lasso)\n",
    "plt.title('Valores predichos Vs. Valores Reales (LASSO)', fontsize=16)\n",
    "plt.ylabel('Valores Predichos (con scale)')\n",
    "plt.xlabel('Valores Reales (con scale)')"
   ]
  },
  {
   "cell_type": "markdown",
   "metadata": {},
   "source": [
    "## Mejores Resultados\n",
    "\n",
    "\n",
    "|Model            |MSE  |R^2    |Alpha | Columnas |\n",
    "|-----------------|-----|-------|------|-----------\n",
    "|Linear Regression|0.339|0.390  |NaN   |1249      |\n",
    "|Ridge            |0.201|0.639  |0.100 |1249      |\n",
    "|Lasso            |0.214|0.607  |0.000 |1249      |\n",
    "|Lasso sin coef 0 |0.214|0.607  |0.000 |301       |"
   ]
  },
  {
   "cell_type": "markdown",
   "metadata": {},
   "source": [
    "### DataFrame con los resultados\n",
    "Armamos un dataframe que contenga los resultados predichos en cada modelo"
   ]
  },
  {
   "cell_type": "code",
   "execution_count": 76,
   "metadata": {
    "collapsed": true
   },
   "outputs": [],
   "source": [
    "#  Me guardo los indices originales para poder identificar luego cada fila\n",
    "y_index = Y_test.index\n",
    "# Reinicio los indices para poder unir los Y de tes ty los Y predichos\n",
    "Y_test_indexless = Y_test.reset_index(drop=True)\n",
    "\n",
    "# Concateno los Y de todos los modelos\n",
    "Y_values = pd.DataFrame({'y_real': Y_test_indexless, 'y_linear': Y_predicted_linear ,'y_ridge': Y_predicted_ridge, 'y_lasso': Y_predicted_lasso})\n",
    "\n",
    "#pd.Series(Y_predicted_ridge).describe()\n",
    "# Le asigno el nombre a las columnas\n",
    "#Y_values.columns = ['Y Real','Y Predicted Linear','Y Predicted Ridge', 'Y Predicted Lasso',]"
   ]
  },
  {
   "cell_type": "markdown",
   "metadata": {},
   "source": [
    "### Outliers en las predicciones\n",
    "Encontramos que hay algunos outliers en las predicciones.<br>\n",
    "Vamos a observar los resultados eliminandolos. Para esto debemos realizar varios pasos para asignar los valores predichos al dataframe original."
   ]
  },
  {
   "cell_type": "code",
   "execution_count": 77,
   "metadata": {
    "collapsed": true
   },
   "outputs": [],
   "source": [
    "# Elimino los outliers de los valores predichos de cada modelo\n",
    "df_result_sin_outliers_lasso = Y_values[np.abs(Y_values['y_lasso']-Y_values['y_lasso'].mean())<=(3*Y_values['y_lasso'].std())].copy()\n",
    "df_result_sin_outliers_ridge = Y_values[np.abs(Y_values['y_ridge']-Y_values['y_ridge'].mean())<=(3*Y_values['y_ridge'].std())].copy()\n",
    "df_result_sin_outliers_linear = Y_values[np.abs(Y_values['y_linear']-Y_values['y_linear'].mean())<=(3*Y_values['y_linear'].std())].copy()\n",
    "\n",
    "# Por ultimo agrego una nueva columna con la diferencia entre lo predicho y lo real\n",
    "df_result_sin_outliers_lasso['result_dif'] = df_result_sin_outliers_lasso['y_real']-df_result_sin_outliers_lasso['y_lasso']\n",
    "df_result_sin_outliers_ridge['result_dif'] = df_result_sin_outliers_ridge['y_real']-df_result_sin_outliers_ridge['y_ridge']\n",
    "df_result_sin_outliers_linear['result_dif'] = df_result_sin_outliers_linear['y_real']-df_result_sin_outliers_linear['y_linear']"
   ]
  },
  {
   "cell_type": "markdown",
   "metadata": {},
   "source": [
    "### Ploteamos los resultados sin los outliers de las predicciones"
   ]
  },
  {
   "cell_type": "code",
   "execution_count": 78,
   "metadata": {},
   "outputs": [
    {
     "data": {
      "text/plain": [
       "<matplotlib.text.Text at 0x16197115978>"
      ]
     },
     "execution_count": 78,
     "metadata": {},
     "output_type": "execute_result"
    },
    {
     "data": {
      "image/png": "[encoded data removed]",
      "text/plain": [
       "<matplotlib.figure.Figure at 0x16196ad6828>"
      ]
     },
     "metadata": {},
     "output_type": "display_data"
    }
   ],
   "source": [
    "# Ploteo los valores de Y sin outliers\n",
    "plt.figure(figsize=(20,15))\n",
    "\n",
    "# Defino los ticks con los valores de las colorbar\n",
    "colorbar_ticks = [-5,-4,-3,-2,-1,0,1,2,3,4,5]\n",
    "\n",
    "# LASSO\n",
    "plt.subplot(2,2,1)\n",
    "\n",
    "# Scatter\n",
    "points = plt.scatter(x=df_result_sin_outliers_lasso['y_real'], y=df_result_sin_outliers_lasso['y_lasso'],c=df_result_sin_outliers_lasso['result_dif'], s=75, cmap=\"Spectral_r\", vmin=-5, vmax=5)\n",
    "# Colorbar\n",
    "#clbr = plt.colorbar(points)\n",
    "clbr = plt.colorbar(ticks=colorbar_ticks)\n",
    "clbr.set_label('Diferencia Real - Predicted', fontsize=14)\n",
    "# Regression\n",
    "ax1 = sns.regplot(x=\"y_real\", y=\"y_lasso\", data=df_result_sin_outliers_lasso, scatter=False,)\n",
    "# Establezco los títulos\n",
    "plt.title('Lasso', fontsize=18)\n",
    "plt.ylabel('Valores Predichos', fontsize=14)\n",
    "plt.xlabel('Valores Reales',fontsize=14)\n",
    "\n",
    "# RIDGE\n",
    "plt.subplot(2,2,2)\n",
    "\n",
    "# Scatter\n",
    "points = plt.scatter(x=df_result_sin_outliers_ridge['y_real'], y=df_result_sin_outliers_ridge['y_ridge'],c=df_result_sin_outliers_ridge['result_dif'], s=75, cmap=\"Spectral_r\", vmin=-5, vmax=5)\n",
    "# Colorbar\n",
    "#clbr = plt.colorbar(points)\n",
    "clbr = plt.colorbar(ticks=colorbar_ticks)\n",
    "clbr.set_label('Diferencia Real - Predicted', fontsize=14)\n",
    "# Regression\n",
    "sns.regplot(x=\"y_real\", y=\"y_ridge\", data=df_result_sin_outliers_ridge, scatter=False)\n",
    "# Establezco los títulos\n",
    "plt.suptitle('Valores predichos Vs. Valores Reales', fontsize=20)\n",
    "plt.title('Ridge', fontsize=18)\n",
    "plt.ylabel('Valores Predichos', fontsize=14)\n",
    "plt.xlabel('Valores Reales',fontsize=14)\n",
    "\n",
    "# LINEAR\n",
    "plt.subplot(2,2,3)\n",
    "\n",
    "# Scatter\n",
    "points = plt.scatter(x=df_result_sin_outliers_linear['y_real'], y=df_result_sin_outliers_linear['y_linear'],c=df_result_sin_outliers_linear['result_dif'], s=75, cmap=\"Spectral_r\", vmin=-5, vmax=5)\n",
    "# Colorbar\n",
    "clbr = plt.colorbar(ticks=colorbar_ticks)\n",
    "clbr.set_label('Diferencia Real - Predicted', fontsize=14)\n",
    "# Regression\n",
    "sns.regplot(x=\"y_real\", y=\"y_linear\", data=df_result_sin_outliers_linear, scatter=False)\n",
    "# Establezco los títulos\n",
    "plt.suptitle('Valores predichos Vs. Valores Reales Sin Outliers', fontsize=20)\n",
    "plt.title('Linear Regression', fontsize=18)\n",
    "plt.ylabel('Valores Predichos', fontsize=14)\n",
    "plt.xlabel('Valores Reales',fontsize=14)\n"
   ]
  },
  {
   "cell_type": "code",
   "execution_count": 79,
   "metadata": {},
   "outputs": [
    {
     "data": {
      "text/html": [
       "<div>\n",
       "<style>\n",
       "    .dataframe thead tr:only-child th {\n",
       "        text-align: right;\n",
       "    }\n",
       "\n",
       "    .dataframe thead th {\n",
       "        text-align: left;\n",
       "    }\n",
       "\n",
       "    .dataframe tbody tr th {\n",
       "        vertical-align: top;\n",
       "    }\n",
       "</style>\n",
       "<table border=\"1\" class=\"dataframe\">\n",
       "  <thead>\n",
       "    <tr style=\"text-align: right;\">\n",
       "      <th></th>\n",
       "      <th>y_lasso</th>\n",
       "      <th>y_linear</th>\n",
       "      <th>y_real</th>\n",
       "      <th>y_ridge</th>\n",
       "      <th>result_dif</th>\n",
       "    </tr>\n",
       "  </thead>\n",
       "  <tbody>\n",
       "    <tr>\n",
       "      <th>count</th>\n",
       "      <td>22420.000</td>\n",
       "      <td>22420.000</td>\n",
       "      <td>22420.000</td>\n",
       "      <td>22420.000</td>\n",
       "      <td>22420.000</td>\n",
       "    </tr>\n",
       "    <tr>\n",
       "      <th>mean</th>\n",
       "      <td>11.978</td>\n",
       "      <td>11.976</td>\n",
       "      <td>11.989</td>\n",
       "      <td>11.976</td>\n",
       "      <td>0.013</td>\n",
       "    </tr>\n",
       "    <tr>\n",
       "      <th>std</th>\n",
       "      <td>0.509</td>\n",
       "      <td>0.552</td>\n",
       "      <td>0.724</td>\n",
       "      <td>0.543</td>\n",
       "      <td>0.426</td>\n",
       "    </tr>\n",
       "    <tr>\n",
       "      <th>min</th>\n",
       "      <td>10.772</td>\n",
       "      <td>8.425</td>\n",
       "      <td>8.517</td>\n",
       "      <td>10.239</td>\n",
       "      <td>-3.451</td>\n",
       "    </tr>\n",
       "    <tr>\n",
       "      <th>25%</th>\n",
       "      <td>11.587</td>\n",
       "      <td>11.564</td>\n",
       "      <td>11.458</td>\n",
       "      <td>11.567</td>\n",
       "      <td>-0.219</td>\n",
       "    </tr>\n",
       "    <tr>\n",
       "      <th>50%</th>\n",
       "      <td>11.924</td>\n",
       "      <td>11.895</td>\n",
       "      <td>11.918</td>\n",
       "      <td>11.902</td>\n",
       "      <td>0.002</td>\n",
       "    </tr>\n",
       "    <tr>\n",
       "      <th>75%</th>\n",
       "      <td>12.280</td>\n",
       "      <td>12.311</td>\n",
       "      <td>12.487</td>\n",
       "      <td>12.307</td>\n",
       "      <td>0.235</td>\n",
       "    </tr>\n",
       "    <tr>\n",
       "      <th>max</th>\n",
       "      <td>14.908</td>\n",
       "      <td>18.763</td>\n",
       "      <td>13.964</td>\n",
       "      <td>13.774</td>\n",
       "      <td>2.877</td>\n",
       "    </tr>\n",
       "  </tbody>\n",
       "</table>\n",
       "</div>"
      ],
      "text/plain": [
       "        y_lasso  y_linear    y_real   y_ridge  result_dif\n",
       "count 22420.000 22420.000 22420.000 22420.000   22420.000\n",
       "mean     11.978    11.976    11.989    11.976       0.013\n",
       "std       0.509     0.552     0.724     0.543       0.426\n",
       "min      10.772     8.425     8.517    10.239      -3.451\n",
       "25%      11.587    11.564    11.458    11.567      -0.219\n",
       "50%      11.924    11.895    11.918    11.902       0.002\n",
       "75%      12.280    12.311    12.487    12.307       0.235\n",
       "max      14.908    18.763    13.964    13.774       2.877"
      ]
     },
     "execution_count": 79,
     "metadata": {},
     "output_type": "execute_result"
    }
   ],
   "source": [
    "df_result_sin_outliers_ridge.describe()"
   ]
  },
  {
   "cell_type": "code",
   "execution_count": null,
   "metadata": {
    "collapsed": true
   },
   "outputs": [],
   "source": []
  }
 ],
 "metadata": {
  "kernelspec": {
   "display_name": "Python 3",
   "language": "python",
   "name": "python3"
  },
  "language_info": {
   "codemirror_mode": {
    "name": "ipython",
    "version": 3
   },
   "file_extension": ".py",
   "mimetype": "text/x-python",
   "name": "python",
   "nbconvert_exporter": "python",
   "pygments_lexer": "ipython3",
   "version": "3.6.1"
  }
 },
 "nbformat": 4,
 "nbformat_minor": 2
}
